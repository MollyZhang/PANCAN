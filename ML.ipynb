{
 "cells": [
  {
   "cell_type": "code",
   "execution_count": 46,
   "metadata": {
    "collapsed": true
   },
   "outputs": [],
   "source": [
    "import pandas as pd\n",
    "from sklearn import preprocessing, cross_validation\n",
    "from sklearn import tree, metrics, neighbors, linear_model, svm, ensemble\n",
    "from matplotlib import pyplot as plt"
   ]
  },
  {
   "cell_type": "code",
   "execution_count": 47,
   "metadata": {
    "collapsed": false,
    "scrolled": true
   },
   "outputs": [
    {
     "name": "stdout",
     "output_type": "stream",
     "text": [
      "                              ?|100130426  ?|100133144  ?|100134869  ?|10357  \\\n",
      "sample_barcode                                                                 \n",
      "TCGA-3C-AAAU-01A-11R-A41B-07            0      16.3644      12.9316  52.1503   \n",
      "TCGA-3C-AALI-01A-11R-A41B-07            0       9.2659      17.3790  69.7553   \n",
      "\n",
      "                              ?|10431  ?|136542  ?|155060  ?|26823  ?|280660  \\\n",
      "sample_barcode                                                                 \n",
      "TCGA-3C-AAAU-01A-11R-A41B-07  408.076         0  1187.010   0.0000    0.0000   \n",
      "TCGA-3C-AALI-01A-11R-A41B-07  563.893         0   516.041   1.0875    0.5438   \n",
      "\n",
      "                              ?|317712  ...   ZWINT|11130  ZXDA|7789  \\\n",
      "sample_barcode                          ...                            \n",
      "TCGA-3C-AAAU-01A-11R-A41B-07         0  ...       931.957   129.5920   \n",
      "TCGA-3C-AALI-01A-11R-A41B-07         0  ...       965.198    59.8151   \n",
      "\n",
      "                              ZXDB|158586  ZXDC|79364  ZYG11A|440590  \\\n",
      "sample_barcode                                                         \n",
      "TCGA-3C-AAAU-01A-11R-A41B-07     1007.780     1658.50        258.494   \n",
      "TCGA-3C-AALI-01A-11R-A41B-07      448.613     1343.12        198.477   \n",
      "\n",
      "                              ZYG11B|79699  ZYX|7791  ZZEF1|23140  ZZZ3|26009  \\\n",
      "sample_barcode                                                                  \n",
      "TCGA-3C-AAAU-01A-11R-A41B-07      1208.370   3507.25      1894.93    1180.460   \n",
      "TCGA-3C-AALI-01A-11R-A41B-07       603.589   5504.62      1318.65     406.743   \n",
      "\n",
      "                              TP53  \n",
      "sample_barcode                      \n",
      "TCGA-3C-AAAU-01A-11R-A41B-07     1  \n",
      "TCGA-3C-AALI-01A-11R-A41B-07     0  \n",
      "\n",
      "[2 rows x 20532 columns]\n"
     ]
    }
   ],
   "source": [
    "# sample barcode is unique and serves as ID\n",
    "df = pd.read_csv(\"data/by_tissue_RNASeq/RNASeq_BRCA_labled.tsv\", sep=\"\\t\", index_col=\"sample_barcode\")\n",
    "df.drop(\"short_barcode\", axis=1, inplace=True)\n",
    "print df.head(2)"
   ]
  },
  {
   "cell_type": "code",
   "execution_count": 52,
   "metadata": {
    "collapsed": false
   },
   "outputs": [],
   "source": [
    "def data_label_split(df):\n",
    "    label = df['TP53']\n",
    "    data = df.drop(\"TP53\", axis=1)\n",
    "    return data, label\n",
    "\n",
    "def folds_to_split(data,targets,train,test):\n",
    "    data_tr = pd.DataFrame(data).iloc[train]\n",
    "    data_te = pd.DataFrame(data).iloc[test]\n",
    "    labels_tr = pd.DataFrame(targets).iloc[train]\n",
    "    labels_te = pd.DataFrame(targets).iloc[test]\n",
    "    return [data_tr, data_te, labels_tr, labels_te]"
   ]
  },
  {
   "cell_type": "code",
   "execution_count": 53,
   "metadata": {
    "collapsed": false
   },
   "outputs": [],
   "source": [
    "data, label = data_label_split(df)\n",
    "x_train, x_test, y_train, y_test = cross_validation.train_test_split(\n",
    "    data, label, test_size=0.1, random_state=0)"
   ]
  },
  {
   "cell_type": "code",
   "execution_count": 54,
   "metadata": {
    "collapsed": true
   },
   "outputs": [],
   "source": [
    "def tenfold_cross_validation(x_train, y_train, classifiers):\n",
    "    result_df = pd.DataFrame()\n",
    "    foldnum = 0\n",
    "    for train, val in cross_validation.KFold(len(x_train), shuffle=True, n_folds=10, random_state=0):\n",
    "        foldnum += 1\n",
    "        [tr_data, val_data, tr_targets, val_targets] = folds_to_split(x_train, y_train, train, val)\n",
    "        tr_targets = tr_targets.as_matrix().ravel()\n",
    "        val_targets = val_targets.as_matrix().ravel()\n",
    "\n",
    "        for classfier_name, clf in classifiers.iteritems():\n",
    "            clf.fit(tr_data, tr_targets)\n",
    "            prediction = clf.predict(val_data)\n",
    "            accuracy = metrics.accuracy_score(prediction, val_targets)\n",
    "            result_df.loc[foldnum, classfier_name] = accuracy\n",
    "    return result_df"
   ]
  },
  {
   "cell_type": "code",
   "execution_count": 55,
   "metadata": {
    "collapsed": true
   },
   "outputs": [],
   "source": [
    "Classifiers = {\"Decision tree\": tree.DecisionTreeClassifier()}\n",
    "             #\"Random Forest\": ensemble.RandomForestClassifier(),\n",
    "             #\"KNN\": neighbors.KNeighborsClassifier(),\n",
    "             #\"Logistic regression\": linear_model.LogisticRegression(),\n",
    "             #\"SVM Linear\": svm.SVC(kernel=\"linear\"),\n",
    "             #\"SVM RBF\": svm.SVC(kernel=\"rbf\"),\n",
    "             #\"Ada Boost\": ensemble.AdaBoostClassifier()}\n"
   ]
  },
  {
   "cell_type": "code",
   "execution_count": 56,
   "metadata": {
    "collapsed": false
   },
   "outputs": [
    {
     "name": "stdout",
     "output_type": "stream",
     "text": [
      "    Decision tree\n",
      "1        0.709091\n",
      "2        0.672727\n",
      "3        0.800000\n",
      "4        0.745455\n",
      "5        0.709091\n",
      "6        0.745455\n",
      "7        0.715596\n",
      "8        0.779817\n",
      "9        0.660550\n",
      "10       0.752294\n"
     ]
    }
   ],
   "source": [
    "print tenfold_cross_validation(x_train, y_train, Classifiers)"
   ]
  },
  {
   "cell_type": "code",
   "execution_count": null,
   "metadata": {
    "collapsed": true
   },
   "outputs": [],
   "source": []
  }
 ],
 "metadata": {
  "kernelspec": {
   "display_name": "Python 2",
   "language": "python",
   "name": "python2"
  },
  "language_info": {
   "codemirror_mode": {
    "name": "ipython",
    "version": 2
   },
   "file_extension": ".py",
   "mimetype": "text/x-python",
   "name": "python",
   "nbconvert_exporter": "python",
   "pygments_lexer": "ipython2",
   "version": "2.7.11"
  }
 },
 "nbformat": 4,
 "nbformat_minor": 0
}
