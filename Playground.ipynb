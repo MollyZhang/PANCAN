{
 "cells": [
  {
   "cell_type": "code",
   "execution_count": 1,
   "metadata": {
    "collapsed": true
   },
   "outputs": [],
   "source": [
    "import pandas as pd"
   ]
  },
  {
   "cell_type": "code",
   "execution_count": 2,
   "metadata": {
    "collapsed": true
   },
   "outputs": [],
   "source": [
    "brca_df = pd.read_csv(\"data/by_tissue_RNASeq/RNASeq_BRCA.tsv\", sep=\"\\t\")"
   ]
  },
  {
   "cell_type": "code",
   "execution_count": 20,
   "metadata": {
    "collapsed": true
   },
   "outputs": [],
   "source": [
    "snv_df = pd.read_csv(\"data/snv_TP53.tsv\", sep=\"\\t\")"
   ]
  },
  {
   "cell_type": "code",
   "execution_count": 21,
   "metadata": {
    "collapsed": true
   },
   "outputs": [],
   "source": [
    "cnv_df = pd.read_csv(\"data/cnv_TP53_transposed.tsv\", sep='\\t')"
   ]
  },
  {
   "cell_type": "code",
   "execution_count": 22,
   "metadata": {
    "collapsed": false,
    "scrolled": true
   },
   "outputs": [
    {
     "name": "stdout",
     "output_type": "stream",
     "text": [
      "                 sample_barcode short_barcode  ?|100130426  ?|100133144  \\\n",
      "0  TCGA-3C-AAAU-01A-11R-A41B-07  TCGA-3C-AAAU       0.0000      16.3644   \n",
      "1  TCGA-3C-AALI-01A-11R-A41B-07  TCGA-3C-AALI       0.0000       9.2659   \n",
      "2  TCGA-3C-AALJ-01A-31R-A41B-07  TCGA-3C-AALJ       0.9066      11.6228   \n",
      "3  TCGA-3C-AALK-01A-11R-A41B-07  TCGA-3C-AALK       0.0000      12.0894   \n",
      "4  TCGA-4H-AAAK-01A-12R-A41B-07  TCGA-4H-AAAK       0.0000       6.8468   \n",
      "\n",
      "   ?|100134869   ?|10357   ?|10431  ?|136542  ?|155060  ?|26823     ...      \\\n",
      "0      12.9316   52.1503   408.076         0  1187.010   0.0000     ...       \n",
      "1      17.3790   69.7553   563.893         0   516.041   1.0875     ...       \n",
      "2       9.2294  154.2970  1360.830         0   592.022   0.0000     ...       \n",
      "3      11.0799  143.8640   865.536         0   552.751   0.4137     ...       \n",
      "4      14.4298   84.2128   766.383         0   260.851   0.4255     ...       \n",
      "\n",
      "   ZWILCH|55055  ZWINT|11130  ZXDA|7789  ZXDB|158586  ZXDC|79364  \\\n",
      "0       415.824      931.957   129.5920     1007.780    1658.500   \n",
      "1      1161.330      965.198    59.8151      448.613    1343.120   \n",
      "2       305.422     2531.280    35.3581      533.998     768.812   \n",
      "3       394.506      668.597    55.0269      437.733     863.881   \n",
      "4       405.711      674.468    48.9362      424.255    1049.790   \n",
      "\n",
      "   ZYG11A|440590  ZYG11B|79699  ZYX|7791  ZZEF1|23140  ZZZ3|26009  \n",
      "0       258.4940      1208.370   3507.25     1894.930    1180.460  \n",
      "1       198.4770       603.589   5504.62     1318.650     406.743  \n",
      "2       331.8220       532.185   5458.75      942.883     509.519  \n",
      "3       175.4240       607.365   5691.35      781.134     700.869  \n",
      "4        14.0426       775.745   4041.70      831.915     881.702  \n",
      "\n",
      "[5 rows x 20533 columns]\n",
      "  Hugo_Symbol  Entrez_Gene_Id Center NCBI_Build  Chromosome  Start_Position  \\\n",
      "0        TP53               0      .     GRCh37          17         7572657   \n",
      "1        TP53               0      .     GRCh37          17         7572688   \n",
      "2        TP53               0      .     GRCh37          17         7572740   \n",
      "3        TP53               0      .     GRCh37          17         7572759   \n",
      "4        TP53               0      .     GRCh37          17         7572786   \n",
      "\n",
      "   End_Position Strand Variant_Classification Variant_Type      ...       \\\n",
      "0       7572657      +                  3'UTR          SNP      ...        \n",
      "1       7572688      +                  3'UTR          SNP      ...        \n",
      "2       7572740      +                  3'UTR          SNP      ...        \n",
      "3       7572759      +                  3'UTR          SNP      ...        \n",
      "4       7572786      +                  3'UTR          SNP      ...        \n",
      "\n",
      "  ExAC_AF_OTH ExAC_AF_SAS GENE_PHENO FILTER COSMIC  \\\n",
      "0           .           .          .   PASS   NONE   \n",
      "1           .           .          .   PASS   NONE   \n",
      "2           .           .          .   PASS   NONE   \n",
      "3           .           .          .   PASS   NONE   \n",
      "4           .           .          .   PASS   NONE   \n",
      "\n",
      "                                    CENTERS      CONTEXT DBVS NCALLERS  \\\n",
      "0  SOMATICSNIPER|MUSE|RADIA|VARSCANS|MUTECT  TGCAAGAACAT    .        5   \n",
      "1  SOMATICSNIPER|MUSE|MUTECT|VARSCANS|RADIA  CCCTCACAGTA    .        5   \n",
      "2                               MUSE|MUTECT  TCCTCCCCACA    .        2   \n",
      "3                               MUSE|MUTECT  CCAGTGCAGGC    .        2   \n",
      "4                MUSE|MUTECT|VARSCANS|RADIA  GCCCCGGGACA    .        4   \n",
      "\n",
      "  short_barcode  \n",
      "0  TCGA-AG-A002  \n",
      "1  TCGA-A5-A0G1  \n",
      "2  TCGA-DD-AAC8  \n",
      "3  TCGA-AX-A06F  \n",
      "4  TCGA-D7-A4YV  \n",
      "\n",
      "[5 rows x 115 columns]\n",
      "                 sample_barcode short_barcode  cnv\n",
      "0  TCGA-OR-A5J1-01A-11D-A29H-01  TCGA-OR-A5J1    0\n",
      "1  TCGA-OR-A5J2-01A-11D-A29H-01  TCGA-OR-A5J2    0\n",
      "2  TCGA-OR-A5J3-01A-11D-A29H-01  TCGA-OR-A5J3    0\n",
      "3  TCGA-OR-A5J4-01A-11D-A29H-01  TCGA-OR-A5J4    1\n",
      "4  TCGA-OR-A5J5-01A-11D-A29H-01  TCGA-OR-A5J5    0\n"
     ]
    }
   ],
   "source": [
    "print brca_df.head()\n",
    "print snv_df.head()\n",
    "print cnv_df.head()"
   ]
  },
  {
   "cell_type": "code",
   "execution_count": 23,
   "metadata": {
    "collapsed": false
   },
   "outputs": [
    {
     "name": "stdout",
     "output_type": "stream",
     "text": [
      "0 TCGA-3C-AAAU\n",
      "Empty DataFrame\n",
      "Columns: [Hugo_Symbol, Entrez_Gene_Id, Center, NCBI_Build, Chromosome, Start_Position, End_Position, Strand, Variant_Classification, Variant_Type, Reference_Allele, Tumor_Seq_Allele1, Tumor_Seq_Allele2, dbSNP_RS, dbSNP_Val_Status, Tumor_Sample_Barcode, Matched_Norm_Sample_Barcode, Match_Norm_Seq_Allele1, Match_Norm_Seq_Allele2, Tumor_Validation_Allele1, Tumor_Validation_Allele2, Match_Norm_Validation_Allele1, Match_Norm_Validation_Allele2, Verification_Status, Validation_Status, Mutation_Status, Sequencing_Phase, Sequence_Source, Validation_Method, Score, BAM_File, Sequencer, Tumor_Sample_UUID, Matched_Norm_Sample_UUID, HGVSc, HGVSp, HGVSp_Short, Transcript_ID, Exon_Number, t_depth, t_ref_count, t_alt_count, n_depth, n_ref_count, n_alt_count, all_effects, Allele, Gene, Feature, Feature_type, Consequence, cDNA_position, CDS_position, Protein_position, Amino_acids, Codons, Existing_variation, ALLELE_NUM, DISTANCE, STRAND, SYMBOL, SYMBOL_SOURCE, HGNC_ID, BIOTYPE, CANONICAL, CCDS, ENSP, SWISSPROT, TREMBL, UNIPARC, RefSeq, SIFT, PolyPhen, EXON, INTRON, DOMAINS, GMAF, AFR_MAF, AMR_MAF, ASN_MAF, EAS_MAF, EUR_MAF, SAS_MAF, AA_MAF, EA_MAF, CLIN_SIG, SOMATIC, PUBMED, MOTIF_NAME, MOTIF_POS, HIGH_INF_POS, MOTIF_SCORE_CHANGE, IMPACT, PICK, VARIANT_CLASS, TSL, HGVS_OFFSET, PHENO, MINIMISED, ExAC_AF, ...]\n",
      "Index: []\n",
      "\n",
      "[0 rows x 115 columns]\n",
      "1 TCGA-3C-AALI\n",
      "Empty DataFrame\n",
      "Columns: [Hugo_Symbol, Entrez_Gene_Id, Center, NCBI_Build, Chromosome, Start_Position, End_Position, Strand, Variant_Classification, Variant_Type, Reference_Allele, Tumor_Seq_Allele1, Tumor_Seq_Allele2, dbSNP_RS, dbSNP_Val_Status, Tumor_Sample_Barcode, Matched_Norm_Sample_Barcode, Match_Norm_Seq_Allele1, Match_Norm_Seq_Allele2, Tumor_Validation_Allele1, Tumor_Validation_Allele2, Match_Norm_Validation_Allele1, Match_Norm_Validation_Allele2, Verification_Status, Validation_Status, Mutation_Status, Sequencing_Phase, Sequence_Source, Validation_Method, Score, BAM_File, Sequencer, Tumor_Sample_UUID, Matched_Norm_Sample_UUID, HGVSc, HGVSp, HGVSp_Short, Transcript_ID, Exon_Number, t_depth, t_ref_count, t_alt_count, n_depth, n_ref_count, n_alt_count, all_effects, Allele, Gene, Feature, Feature_type, Consequence, cDNA_position, CDS_position, Protein_position, Amino_acids, Codons, Existing_variation, ALLELE_NUM, DISTANCE, STRAND, SYMBOL, SYMBOL_SOURCE, HGNC_ID, BIOTYPE, CANONICAL, CCDS, ENSP, SWISSPROT, TREMBL, UNIPARC, RefSeq, SIFT, PolyPhen, EXON, INTRON, DOMAINS, GMAF, AFR_MAF, AMR_MAF, ASN_MAF, EAS_MAF, EUR_MAF, SAS_MAF, AA_MAF, EA_MAF, CLIN_SIG, SOMATIC, PUBMED, MOTIF_NAME, MOTIF_POS, HIGH_INF_POS, MOTIF_SCORE_CHANGE, IMPACT, PICK, VARIANT_CLASS, TSL, HGVS_OFFSET, PHENO, MINIMISED, ExAC_AF, ...]\n",
      "Index: []\n",
      "\n",
      "[0 rows x 115 columns]\n",
      "2 TCGA-3C-AALJ\n",
      "Empty DataFrame\n",
      "Columns: [Hugo_Symbol, Entrez_Gene_Id, Center, NCBI_Build, Chromosome, Start_Position, End_Position, Strand, Variant_Classification, Variant_Type, Reference_Allele, Tumor_Seq_Allele1, Tumor_Seq_Allele2, dbSNP_RS, dbSNP_Val_Status, Tumor_Sample_Barcode, Matched_Norm_Sample_Barcode, Match_Norm_Seq_Allele1, Match_Norm_Seq_Allele2, Tumor_Validation_Allele1, Tumor_Validation_Allele2, Match_Norm_Validation_Allele1, Match_Norm_Validation_Allele2, Verification_Status, Validation_Status, Mutation_Status, Sequencing_Phase, Sequence_Source, Validation_Method, Score, BAM_File, Sequencer, Tumor_Sample_UUID, Matched_Norm_Sample_UUID, HGVSc, HGVSp, HGVSp_Short, Transcript_ID, Exon_Number, t_depth, t_ref_count, t_alt_count, n_depth, n_ref_count, n_alt_count, all_effects, Allele, Gene, Feature, Feature_type, Consequence, cDNA_position, CDS_position, Protein_position, Amino_acids, Codons, Existing_variation, ALLELE_NUM, DISTANCE, STRAND, SYMBOL, SYMBOL_SOURCE, HGNC_ID, BIOTYPE, CANONICAL, CCDS, ENSP, SWISSPROT, TREMBL, UNIPARC, RefSeq, SIFT, PolyPhen, EXON, INTRON, DOMAINS, GMAF, AFR_MAF, AMR_MAF, ASN_MAF, EAS_MAF, EUR_MAF, SAS_MAF, AA_MAF, EA_MAF, CLIN_SIG, SOMATIC, PUBMED, MOTIF_NAME, MOTIF_POS, HIGH_INF_POS, MOTIF_SCORE_CHANGE, IMPACT, PICK, VARIANT_CLASS, TSL, HGVS_OFFSET, PHENO, MINIMISED, ExAC_AF, ...]\n",
      "Index: []\n",
      "\n",
      "[0 rows x 115 columns]\n",
      "3 TCGA-3C-AALK\n",
      "Empty DataFrame\n",
      "Columns: [Hugo_Symbol, Entrez_Gene_Id, Center, NCBI_Build, Chromosome, Start_Position, End_Position, Strand, Variant_Classification, Variant_Type, Reference_Allele, Tumor_Seq_Allele1, Tumor_Seq_Allele2, dbSNP_RS, dbSNP_Val_Status, Tumor_Sample_Barcode, Matched_Norm_Sample_Barcode, Match_Norm_Seq_Allele1, Match_Norm_Seq_Allele2, Tumor_Validation_Allele1, Tumor_Validation_Allele2, Match_Norm_Validation_Allele1, Match_Norm_Validation_Allele2, Verification_Status, Validation_Status, Mutation_Status, Sequencing_Phase, Sequence_Source, Validation_Method, Score, BAM_File, Sequencer, Tumor_Sample_UUID, Matched_Norm_Sample_UUID, HGVSc, HGVSp, HGVSp_Short, Transcript_ID, Exon_Number, t_depth, t_ref_count, t_alt_count, n_depth, n_ref_count, n_alt_count, all_effects, Allele, Gene, Feature, Feature_type, Consequence, cDNA_position, CDS_position, Protein_position, Amino_acids, Codons, Existing_variation, ALLELE_NUM, DISTANCE, STRAND, SYMBOL, SYMBOL_SOURCE, HGNC_ID, BIOTYPE, CANONICAL, CCDS, ENSP, SWISSPROT, TREMBL, UNIPARC, RefSeq, SIFT, PolyPhen, EXON, INTRON, DOMAINS, GMAF, AFR_MAF, AMR_MAF, ASN_MAF, EAS_MAF, EUR_MAF, SAS_MAF, AA_MAF, EA_MAF, CLIN_SIG, SOMATIC, PUBMED, MOTIF_NAME, MOTIF_POS, HIGH_INF_POS, MOTIF_SCORE_CHANGE, IMPACT, PICK, VARIANT_CLASS, TSL, HGVS_OFFSET, PHENO, MINIMISED, ExAC_AF, ...]\n",
      "Index: []\n",
      "\n",
      "[0 rows x 115 columns]\n",
      "4 TCGA-4H-AAAK\n",
      "Empty DataFrame\n",
      "Columns: [Hugo_Symbol, Entrez_Gene_Id, Center, NCBI_Build, Chromosome, Start_Position, End_Position, Strand, Variant_Classification, Variant_Type, Reference_Allele, Tumor_Seq_Allele1, Tumor_Seq_Allele2, dbSNP_RS, dbSNP_Val_Status, Tumor_Sample_Barcode, Matched_Norm_Sample_Barcode, Match_Norm_Seq_Allele1, Match_Norm_Seq_Allele2, Tumor_Validation_Allele1, Tumor_Validation_Allele2, Match_Norm_Validation_Allele1, Match_Norm_Validation_Allele2, Verification_Status, Validation_Status, Mutation_Status, Sequencing_Phase, Sequence_Source, Validation_Method, Score, BAM_File, Sequencer, Tumor_Sample_UUID, Matched_Norm_Sample_UUID, HGVSc, HGVSp, HGVSp_Short, Transcript_ID, Exon_Number, t_depth, t_ref_count, t_alt_count, n_depth, n_ref_count, n_alt_count, all_effects, Allele, Gene, Feature, Feature_type, Consequence, cDNA_position, CDS_position, Protein_position, Amino_acids, Codons, Existing_variation, ALLELE_NUM, DISTANCE, STRAND, SYMBOL, SYMBOL_SOURCE, HGNC_ID, BIOTYPE, CANONICAL, CCDS, ENSP, SWISSPROT, TREMBL, UNIPARC, RefSeq, SIFT, PolyPhen, EXON, INTRON, DOMAINS, GMAF, AFR_MAF, AMR_MAF, ASN_MAF, EAS_MAF, EUR_MAF, SAS_MAF, AA_MAF, EA_MAF, CLIN_SIG, SOMATIC, PUBMED, MOTIF_NAME, MOTIF_POS, HIGH_INF_POS, MOTIF_SCORE_CHANGE, IMPACT, PICK, VARIANT_CLASS, TSL, HGVS_OFFSET, PHENO, MINIMISED, ExAC_AF, ...]\n",
      "Index: []\n",
      "\n",
      "[0 rows x 115 columns]\n",
      "5 TCGA-5L-AAT0\n",
      "Empty DataFrame\n",
      "Columns: [Hugo_Symbol, Entrez_Gene_Id, Center, NCBI_Build, Chromosome, Start_Position, End_Position, Strand, Variant_Classification, Variant_Type, Reference_Allele, Tumor_Seq_Allele1, Tumor_Seq_Allele2, dbSNP_RS, dbSNP_Val_Status, Tumor_Sample_Barcode, Matched_Norm_Sample_Barcode, Match_Norm_Seq_Allele1, Match_Norm_Seq_Allele2, Tumor_Validation_Allele1, Tumor_Validation_Allele2, Match_Norm_Validation_Allele1, Match_Norm_Validation_Allele2, Verification_Status, Validation_Status, Mutation_Status, Sequencing_Phase, Sequence_Source, Validation_Method, Score, BAM_File, Sequencer, Tumor_Sample_UUID, Matched_Norm_Sample_UUID, HGVSc, HGVSp, HGVSp_Short, Transcript_ID, Exon_Number, t_depth, t_ref_count, t_alt_count, n_depth, n_ref_count, n_alt_count, all_effects, Allele, Gene, Feature, Feature_type, Consequence, cDNA_position, CDS_position, Protein_position, Amino_acids, Codons, Existing_variation, ALLELE_NUM, DISTANCE, STRAND, SYMBOL, SYMBOL_SOURCE, HGNC_ID, BIOTYPE, CANONICAL, CCDS, ENSP, SWISSPROT, TREMBL, UNIPARC, RefSeq, SIFT, PolyPhen, EXON, INTRON, DOMAINS, GMAF, AFR_MAF, AMR_MAF, ASN_MAF, EAS_MAF, EUR_MAF, SAS_MAF, AA_MAF, EA_MAF, CLIN_SIG, SOMATIC, PUBMED, MOTIF_NAME, MOTIF_POS, HIGH_INF_POS, MOTIF_SCORE_CHANGE, IMPACT, PICK, VARIANT_CLASS, TSL, HGVS_OFFSET, PHENO, MINIMISED, ExAC_AF, ...]\n",
      "Index: []\n",
      "\n",
      "[0 rows x 115 columns]\n",
      "6 TCGA-5L-AAT1\n",
      "Empty DataFrame\n",
      "Columns: [Hugo_Symbol, Entrez_Gene_Id, Center, NCBI_Build, Chromosome, Start_Position, End_Position, Strand, Variant_Classification, Variant_Type, Reference_Allele, Tumor_Seq_Allele1, Tumor_Seq_Allele2, dbSNP_RS, dbSNP_Val_Status, Tumor_Sample_Barcode, Matched_Norm_Sample_Barcode, Match_Norm_Seq_Allele1, Match_Norm_Seq_Allele2, Tumor_Validation_Allele1, Tumor_Validation_Allele2, Match_Norm_Validation_Allele1, Match_Norm_Validation_Allele2, Verification_Status, Validation_Status, Mutation_Status, Sequencing_Phase, Sequence_Source, Validation_Method, Score, BAM_File, Sequencer, Tumor_Sample_UUID, Matched_Norm_Sample_UUID, HGVSc, HGVSp, HGVSp_Short, Transcript_ID, Exon_Number, t_depth, t_ref_count, t_alt_count, n_depth, n_ref_count, n_alt_count, all_effects, Allele, Gene, Feature, Feature_type, Consequence, cDNA_position, CDS_position, Protein_position, Amino_acids, Codons, Existing_variation, ALLELE_NUM, DISTANCE, STRAND, SYMBOL, SYMBOL_SOURCE, HGNC_ID, BIOTYPE, CANONICAL, CCDS, ENSP, SWISSPROT, TREMBL, UNIPARC, RefSeq, SIFT, PolyPhen, EXON, INTRON, DOMAINS, GMAF, AFR_MAF, AMR_MAF, ASN_MAF, EAS_MAF, EUR_MAF, SAS_MAF, AA_MAF, EA_MAF, CLIN_SIG, SOMATIC, PUBMED, MOTIF_NAME, MOTIF_POS, HIGH_INF_POS, MOTIF_SCORE_CHANGE, IMPACT, PICK, VARIANT_CLASS, TSL, HGVS_OFFSET, PHENO, MINIMISED, ExAC_AF, ...]\n",
      "Index: []\n",
      "\n",
      "[0 rows x 115 columns]\n",
      "7 TCGA-5T-A9QA\n",
      "Empty DataFrame\n",
      "Columns: [Hugo_Symbol, Entrez_Gene_Id, Center, NCBI_Build, Chromosome, Start_Position, End_Position, Strand, Variant_Classification, Variant_Type, Reference_Allele, Tumor_Seq_Allele1, Tumor_Seq_Allele2, dbSNP_RS, dbSNP_Val_Status, Tumor_Sample_Barcode, Matched_Norm_Sample_Barcode, Match_Norm_Seq_Allele1, Match_Norm_Seq_Allele2, Tumor_Validation_Allele1, Tumor_Validation_Allele2, Match_Norm_Validation_Allele1, Match_Norm_Validation_Allele2, Verification_Status, Validation_Status, Mutation_Status, Sequencing_Phase, Sequence_Source, Validation_Method, Score, BAM_File, Sequencer, Tumor_Sample_UUID, Matched_Norm_Sample_UUID, HGVSc, HGVSp, HGVSp_Short, Transcript_ID, Exon_Number, t_depth, t_ref_count, t_alt_count, n_depth, n_ref_count, n_alt_count, all_effects, Allele, Gene, Feature, Feature_type, Consequence, cDNA_position, CDS_position, Protein_position, Amino_acids, Codons, Existing_variation, ALLELE_NUM, DISTANCE, STRAND, SYMBOL, SYMBOL_SOURCE, HGNC_ID, BIOTYPE, CANONICAL, CCDS, ENSP, SWISSPROT, TREMBL, UNIPARC, RefSeq, SIFT, PolyPhen, EXON, INTRON, DOMAINS, GMAF, AFR_MAF, AMR_MAF, ASN_MAF, EAS_MAF, EUR_MAF, SAS_MAF, AA_MAF, EA_MAF, CLIN_SIG, SOMATIC, PUBMED, MOTIF_NAME, MOTIF_POS, HIGH_INF_POS, MOTIF_SCORE_CHANGE, IMPACT, PICK, VARIANT_CLASS, TSL, HGVS_OFFSET, PHENO, MINIMISED, ExAC_AF, ...]\n",
      "Index: []\n",
      "\n",
      "[0 rows x 115 columns]\n",
      "8 TCGA-A1-A0SB\n",
      "Empty DataFrame\n",
      "Columns: [Hugo_Symbol, Entrez_Gene_Id, Center, NCBI_Build, Chromosome, Start_Position, End_Position, Strand, Variant_Classification, Variant_Type, Reference_Allele, Tumor_Seq_Allele1, Tumor_Seq_Allele2, dbSNP_RS, dbSNP_Val_Status, Tumor_Sample_Barcode, Matched_Norm_Sample_Barcode, Match_Norm_Seq_Allele1, Match_Norm_Seq_Allele2, Tumor_Validation_Allele1, Tumor_Validation_Allele2, Match_Norm_Validation_Allele1, Match_Norm_Validation_Allele2, Verification_Status, Validation_Status, Mutation_Status, Sequencing_Phase, Sequence_Source, Validation_Method, Score, BAM_File, Sequencer, Tumor_Sample_UUID, Matched_Norm_Sample_UUID, HGVSc, HGVSp, HGVSp_Short, Transcript_ID, Exon_Number, t_depth, t_ref_count, t_alt_count, n_depth, n_ref_count, n_alt_count, all_effects, Allele, Gene, Feature, Feature_type, Consequence, cDNA_position, CDS_position, Protein_position, Amino_acids, Codons, Existing_variation, ALLELE_NUM, DISTANCE, STRAND, SYMBOL, SYMBOL_SOURCE, HGNC_ID, BIOTYPE, CANONICAL, CCDS, ENSP, SWISSPROT, TREMBL, UNIPARC, RefSeq, SIFT, PolyPhen, EXON, INTRON, DOMAINS, GMAF, AFR_MAF, AMR_MAF, ASN_MAF, EAS_MAF, EUR_MAF, SAS_MAF, AA_MAF, EA_MAF, CLIN_SIG, SOMATIC, PUBMED, MOTIF_NAME, MOTIF_POS, HIGH_INF_POS, MOTIF_SCORE_CHANGE, IMPACT, PICK, VARIANT_CLASS, TSL, HGVS_OFFSET, PHENO, MINIMISED, ExAC_AF, ...]\n",
      "Index: []\n",
      "\n",
      "[0 rows x 115 columns]\n",
      "9 TCGA-A1-A0SD\n",
      "Empty DataFrame\n",
      "Columns: [Hugo_Symbol, Entrez_Gene_Id, Center, NCBI_Build, Chromosome, Start_Position, End_Position, Strand, Variant_Classification, Variant_Type, Reference_Allele, Tumor_Seq_Allele1, Tumor_Seq_Allele2, dbSNP_RS, dbSNP_Val_Status, Tumor_Sample_Barcode, Matched_Norm_Sample_Barcode, Match_Norm_Seq_Allele1, Match_Norm_Seq_Allele2, Tumor_Validation_Allele1, Tumor_Validation_Allele2, Match_Norm_Validation_Allele1, Match_Norm_Validation_Allele2, Verification_Status, Validation_Status, Mutation_Status, Sequencing_Phase, Sequence_Source, Validation_Method, Score, BAM_File, Sequencer, Tumor_Sample_UUID, Matched_Norm_Sample_UUID, HGVSc, HGVSp, HGVSp_Short, Transcript_ID, Exon_Number, t_depth, t_ref_count, t_alt_count, n_depth, n_ref_count, n_alt_count, all_effects, Allele, Gene, Feature, Feature_type, Consequence, cDNA_position, CDS_position, Protein_position, Amino_acids, Codons, Existing_variation, ALLELE_NUM, DISTANCE, STRAND, SYMBOL, SYMBOL_SOURCE, HGNC_ID, BIOTYPE, CANONICAL, CCDS, ENSP, SWISSPROT, TREMBL, UNIPARC, RefSeq, SIFT, PolyPhen, EXON, INTRON, DOMAINS, GMAF, AFR_MAF, AMR_MAF, ASN_MAF, EAS_MAF, EUR_MAF, SAS_MAF, AA_MAF, EA_MAF, CLIN_SIG, SOMATIC, PUBMED, MOTIF_NAME, MOTIF_POS, HIGH_INF_POS, MOTIF_SCORE_CHANGE, IMPACT, PICK, VARIANT_CLASS, TSL, HGVS_OFFSET, PHENO, MINIMISED, ExAC_AF, ...]\n",
      "Index: []\n",
      "\n",
      "[0 rows x 115 columns]\n",
      "10 TCGA-A1-A0SE\n",
      "Empty DataFrame\n",
      "Columns: [Hugo_Symbol, Entrez_Gene_Id, Center, NCBI_Build, Chromosome, Start_Position, End_Position, Strand, Variant_Classification, Variant_Type, Reference_Allele, Tumor_Seq_Allele1, Tumor_Seq_Allele2, dbSNP_RS, dbSNP_Val_Status, Tumor_Sample_Barcode, Matched_Norm_Sample_Barcode, Match_Norm_Seq_Allele1, Match_Norm_Seq_Allele2, Tumor_Validation_Allele1, Tumor_Validation_Allele2, Match_Norm_Validation_Allele1, Match_Norm_Validation_Allele2, Verification_Status, Validation_Status, Mutation_Status, Sequencing_Phase, Sequence_Source, Validation_Method, Score, BAM_File, Sequencer, Tumor_Sample_UUID, Matched_Norm_Sample_UUID, HGVSc, HGVSp, HGVSp_Short, Transcript_ID, Exon_Number, t_depth, t_ref_count, t_alt_count, n_depth, n_ref_count, n_alt_count, all_effects, Allele, Gene, Feature, Feature_type, Consequence, cDNA_position, CDS_position, Protein_position, Amino_acids, Codons, Existing_variation, ALLELE_NUM, DISTANCE, STRAND, SYMBOL, SYMBOL_SOURCE, HGNC_ID, BIOTYPE, CANONICAL, CCDS, ENSP, SWISSPROT, TREMBL, UNIPARC, RefSeq, SIFT, PolyPhen, EXON, INTRON, DOMAINS, GMAF, AFR_MAF, AMR_MAF, ASN_MAF, EAS_MAF, EUR_MAF, SAS_MAF, AA_MAF, EA_MAF, CLIN_SIG, SOMATIC, PUBMED, MOTIF_NAME, MOTIF_POS, HIGH_INF_POS, MOTIF_SCORE_CHANGE, IMPACT, PICK, VARIANT_CLASS, TSL, HGVS_OFFSET, PHENO, MINIMISED, ExAC_AF, ...]\n",
      "Index: []\n",
      "\n",
      "[0 rows x 115 columns]\n"
     ]
    }
   ],
   "source": [
    "label = []\n",
    "for index, row in brca_df.iterrows():\n",
    "    print index, row['short_barcode']\n",
    "    snv_info = snv_df.loc[snv_df[\"short_barcode\"] == r]\n",
    "    if index == 10:\n",
    "        break"
   ]
  },
  {
   "cell_type": "code",
   "execution_count": null,
   "metadata": {
    "collapsed": true
   },
   "outputs": [],
   "source": []
  }
 ],
 "metadata": {
  "kernelspec": {
   "display_name": "Python 2",
   "language": "python",
   "name": "python2"
  },
  "language_info": {
   "codemirror_mode": {
    "name": "ipython",
    "version": 2
   },
   "file_extension": ".py",
   "mimetype": "text/x-python",
   "name": "python",
   "nbconvert_exporter": "python",
   "pygments_lexer": "ipython2",
   "version": "2.7.11"
  }
 },
 "nbformat": 4,
 "nbformat_minor": 0
}
