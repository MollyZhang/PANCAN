{
 "cells": [
  {
   "cell_type": "code",
   "execution_count": 1,
   "metadata": {
    "collapsed": true
   },
   "outputs": [],
   "source": [
    "import pandas as pd"
   ]
  },
  {
   "cell_type": "code",
   "execution_count": 2,
   "metadata": {
    "collapsed": false
   },
   "outputs": [],
   "source": [
    "brca_df = pd.read_csv(\"data/by_tissue_RNASeq/RNASeq_BRCA.tsv\", sep=\"\\t\")"
   ]
  },
  {
   "cell_type": "code",
   "execution_count": 3,
   "metadata": {
    "collapsed": true
   },
   "outputs": [],
   "source": [
    "snv_df = pd.read_csv(\"data/snv_TP53.tsv\", sep=\"\\t\")"
   ]
  },
  {
   "cell_type": "code",
   "execution_count": 4,
   "metadata": {
    "collapsed": true
   },
   "outputs": [],
   "source": [
    "cnv_df = pd.read_csv(\"data/cnv_TP53_transposed.tsv\", sep='\\t')"
   ]
  },
  {
   "cell_type": "code",
   "execution_count": 12,
   "metadata": {
    "collapsed": false,
    "scrolled": true
   },
   "outputs": [
    {
     "name": "stdout",
     "output_type": "stream",
     "text": [
      "  Hugo_Symbol  Entrez_Gene_Id Center NCBI_Build  Chromosome  Start_Position  \\\n",
      "0        TP53               0      .     GRCh37          17         7572657   \n",
      "1        TP53               0      .     GRCh37          17         7572688   \n",
      "2        TP53               0      .     GRCh37          17         7572740   \n",
      "3        TP53               0      .     GRCh37          17         7572759   \n",
      "4        TP53               0      .     GRCh37          17         7572786   \n",
      "\n",
      "   End_Position Strand Variant_Classification Variant_Type      ...       \\\n",
      "0       7572657      +                  3'UTR          SNP      ...        \n",
      "1       7572688      +                  3'UTR          SNP      ...        \n",
      "2       7572740      +                  3'UTR          SNP      ...        \n",
      "3       7572759      +                  3'UTR          SNP      ...        \n",
      "4       7572786      +                  3'UTR          SNP      ...        \n",
      "\n",
      "  ExAC_AF_OTH ExAC_AF_SAS GENE_PHENO FILTER COSMIC  \\\n",
      "0           .           .          .   PASS   NONE   \n",
      "1           .           .          .   PASS   NONE   \n",
      "2           .           .          .   PASS   NONE   \n",
      "3           .           .          .   PASS   NONE   \n",
      "4           .           .          .   PASS   NONE   \n",
      "\n",
      "                                    CENTERS      CONTEXT DBVS NCALLERS  \\\n",
      "0  SOMATICSNIPER|MUSE|RADIA|VARSCANS|MUTECT  TGCAAGAACAT    .        5   \n",
      "1  SOMATICSNIPER|MUSE|MUTECT|VARSCANS|RADIA  CCCTCACAGTA    .        5   \n",
      "2                               MUSE|MUTECT  TCCTCCCCACA    .        2   \n",
      "3                               MUSE|MUTECT  CCAGTGCAGGC    .        2   \n",
      "4                MUSE|MUTECT|VARSCANS|RADIA  GCCCCGGGACA    .        4   \n",
      "\n",
      "  short_barcode  \n",
      "0  TCGA-AG-A002  \n",
      "1  TCGA-A5-A0G1  \n",
      "2  TCGA-DD-AAC8  \n",
      "3  TCGA-AX-A06F  \n",
      "4  TCGA-D7-A4YV  \n",
      "\n",
      "[5 rows x 115 columns]\n",
      "                 sample_barcode short_barcode  cnv\n",
      "0  TCGA-OR-A5J1-01A-11D-A29H-01  TCGA-OR-A5J1    0\n",
      "1  TCGA-OR-A5J2-01A-11D-A29H-01  TCGA-OR-A5J2    0\n",
      "2  TCGA-OR-A5J3-01A-11D-A29H-01  TCGA-OR-A5J3    0\n",
      "3  TCGA-OR-A5J4-01A-11D-A29H-01  TCGA-OR-A5J4    1\n",
      "4  TCGA-OR-A5J5-01A-11D-A29H-01  TCGA-OR-A5J5    0\n"
     ]
    }
   ],
   "source": [
    "print snv_df.head()\n",
    "print cnv_df.head()"
   ]
  },
  {
   "cell_type": "code",
   "execution_count": 24,
   "metadata": {
    "collapsed": false,
    "scrolled": false
   },
   "outputs": [
    {
     "name": "stdout",
     "output_type": "stream",
     "text": [
      "897     Missense_Mutation\n",
      "2439    Missense_Mutation\n",
      "Name: Variant_Classification, dtype: object\n",
      "1629    Missense_Mutation\n",
      "4009    Nonsense_Mutation\n",
      "Name: Variant_Classification, dtype: object\n",
      "4212    Nonsense_Mutation\n",
      "4213    Nonsense_Mutation\n",
      "Name: Variant_Classification, dtype: object\n",
      "4212    Nonsense_Mutation\n",
      "4213    Nonsense_Mutation\n",
      "Name: Variant_Classification, dtype: object\n",
      "4212    Nonsense_Mutation\n",
      "4213    Nonsense_Mutation\n",
      "Name: Variant_Classification, dtype: object\n",
      "448               Silent\n",
      "505    Missense_Mutation\n",
      "Name: Variant_Classification, dtype: object\n",
      "1387               Silent\n",
      "1885    Missense_Mutation\n",
      "Name: Variant_Classification, dtype: object\n",
      "2696    Missense_Mutation\n",
      "2697    Missense_Mutation\n",
      "Name: Variant_Classification, dtype: object\n",
      "2696    Missense_Mutation\n",
      "2697    Missense_Mutation\n",
      "Name: Variant_Classification, dtype: object\n",
      "449    Missense_Mutation\n",
      "686    Missense_Mutation\n",
      "Name: Variant_Classification, dtype: object\n",
      "1286          Splice_Site\n",
      "1536    Missense_Mutation\n",
      "Name: Variant_Classification, dtype: object\n",
      "2215    Missense_Mutation\n",
      "4135    Nonsense_Mutation\n",
      "Name: Variant_Classification, dtype: object\n"
     ]
    },
    {
     "ename": "ValueError",
     "evalue": "Length of values does not match length of index",
     "output_type": "error",
     "traceback": [
      "\u001b[0;31m---------------------------------------------------------------------------\u001b[0m",
      "\u001b[0;31mValueError\u001b[0m                                Traceback (most recent call last)",
      "\u001b[0;32m<ipython-input-24-5792530e3975>\u001b[0m in \u001b[0;36m<module>\u001b[0;34m()\u001b[0m\n\u001b[1;32m     31\u001b[0m \u001b[0;31m#             label.append(0)\u001b[0m\u001b[0;34m\u001b[0m\u001b[0;34m\u001b[0m\u001b[0m\n\u001b[1;32m     32\u001b[0m \u001b[0;34m\u001b[0m\u001b[0m\n\u001b[0;32m---> 33\u001b[0;31m \u001b[0mbrca_df\u001b[0m\u001b[0;34m[\u001b[0m\u001b[0;34m'TP53+'\u001b[0m\u001b[0;34m]\u001b[0m \u001b[0;34m=\u001b[0m \u001b[0mlabel\u001b[0m\u001b[0;34m\u001b[0m\u001b[0m\n\u001b[0m",
      "\u001b[0;32m/Users/Molly/anaconda/lib/python2.7/site-packages/pandas/core/frame.pyc\u001b[0m in \u001b[0;36m__setitem__\u001b[0;34m(self, key, value)\u001b[0m\n\u001b[1;32m   2297\u001b[0m         \u001b[0;32melse\u001b[0m\u001b[0;34m:\u001b[0m\u001b[0;34m\u001b[0m\u001b[0m\n\u001b[1;32m   2298\u001b[0m             \u001b[0;31m# set column\u001b[0m\u001b[0;34m\u001b[0m\u001b[0;34m\u001b[0m\u001b[0m\n\u001b[0;32m-> 2299\u001b[0;31m             \u001b[0mself\u001b[0m\u001b[0;34m.\u001b[0m\u001b[0m_set_item\u001b[0m\u001b[0;34m(\u001b[0m\u001b[0mkey\u001b[0m\u001b[0;34m,\u001b[0m \u001b[0mvalue\u001b[0m\u001b[0;34m)\u001b[0m\u001b[0;34m\u001b[0m\u001b[0m\n\u001b[0m\u001b[1;32m   2300\u001b[0m \u001b[0;34m\u001b[0m\u001b[0m\n\u001b[1;32m   2301\u001b[0m     \u001b[0;32mdef\u001b[0m \u001b[0m_setitem_slice\u001b[0m\u001b[0;34m(\u001b[0m\u001b[0mself\u001b[0m\u001b[0;34m,\u001b[0m \u001b[0mkey\u001b[0m\u001b[0;34m,\u001b[0m \u001b[0mvalue\u001b[0m\u001b[0;34m)\u001b[0m\u001b[0;34m:\u001b[0m\u001b[0;34m\u001b[0m\u001b[0m\n",
      "\u001b[0;32m/Users/Molly/anaconda/lib/python2.7/site-packages/pandas/core/frame.pyc\u001b[0m in \u001b[0;36m_set_item\u001b[0;34m(self, key, value)\u001b[0m\n\u001b[1;32m   2364\u001b[0m \u001b[0;34m\u001b[0m\u001b[0m\n\u001b[1;32m   2365\u001b[0m         \u001b[0mself\u001b[0m\u001b[0;34m.\u001b[0m\u001b[0m_ensure_valid_index\u001b[0m\u001b[0;34m(\u001b[0m\u001b[0mvalue\u001b[0m\u001b[0;34m)\u001b[0m\u001b[0;34m\u001b[0m\u001b[0m\n\u001b[0;32m-> 2366\u001b[0;31m         \u001b[0mvalue\u001b[0m \u001b[0;34m=\u001b[0m \u001b[0mself\u001b[0m\u001b[0;34m.\u001b[0m\u001b[0m_sanitize_column\u001b[0m\u001b[0;34m(\u001b[0m\u001b[0mkey\u001b[0m\u001b[0;34m,\u001b[0m \u001b[0mvalue\u001b[0m\u001b[0;34m)\u001b[0m\u001b[0;34m\u001b[0m\u001b[0m\n\u001b[0m\u001b[1;32m   2367\u001b[0m         \u001b[0mNDFrame\u001b[0m\u001b[0;34m.\u001b[0m\u001b[0m_set_item\u001b[0m\u001b[0;34m(\u001b[0m\u001b[0mself\u001b[0m\u001b[0;34m,\u001b[0m \u001b[0mkey\u001b[0m\u001b[0;34m,\u001b[0m \u001b[0mvalue\u001b[0m\u001b[0;34m)\u001b[0m\u001b[0;34m\u001b[0m\u001b[0m\n\u001b[1;32m   2368\u001b[0m \u001b[0;34m\u001b[0m\u001b[0m\n",
      "\u001b[0;32m/Users/Molly/anaconda/lib/python2.7/site-packages/pandas/core/frame.pyc\u001b[0m in \u001b[0;36m_sanitize_column\u001b[0;34m(self, key, value)\u001b[0m\n\u001b[1;32m   2522\u001b[0m \u001b[0;34m\u001b[0m\u001b[0m\n\u001b[1;32m   2523\u001b[0m             \u001b[0;31m# turn me into an ndarray\u001b[0m\u001b[0;34m\u001b[0m\u001b[0;34m\u001b[0m\u001b[0m\n\u001b[0;32m-> 2524\u001b[0;31m             \u001b[0mvalue\u001b[0m \u001b[0;34m=\u001b[0m \u001b[0m_sanitize_index\u001b[0m\u001b[0;34m(\u001b[0m\u001b[0mvalue\u001b[0m\u001b[0;34m,\u001b[0m \u001b[0mself\u001b[0m\u001b[0;34m.\u001b[0m\u001b[0mindex\u001b[0m\u001b[0;34m,\u001b[0m \u001b[0mcopy\u001b[0m\u001b[0;34m=\u001b[0m\u001b[0mFalse\u001b[0m\u001b[0;34m)\u001b[0m\u001b[0;34m\u001b[0m\u001b[0m\n\u001b[0m\u001b[1;32m   2525\u001b[0m             \u001b[0;32mif\u001b[0m \u001b[0;32mnot\u001b[0m \u001b[0misinstance\u001b[0m\u001b[0;34m(\u001b[0m\u001b[0mvalue\u001b[0m\u001b[0;34m,\u001b[0m \u001b[0;34m(\u001b[0m\u001b[0mnp\u001b[0m\u001b[0;34m.\u001b[0m\u001b[0mndarray\u001b[0m\u001b[0;34m,\u001b[0m \u001b[0mIndex\u001b[0m\u001b[0;34m)\u001b[0m\u001b[0;34m)\u001b[0m\u001b[0;34m:\u001b[0m\u001b[0;34m\u001b[0m\u001b[0m\n\u001b[1;32m   2526\u001b[0m                 \u001b[0;32mif\u001b[0m \u001b[0misinstance\u001b[0m\u001b[0;34m(\u001b[0m\u001b[0mvalue\u001b[0m\u001b[0;34m,\u001b[0m \u001b[0mlist\u001b[0m\u001b[0;34m)\u001b[0m \u001b[0;32mand\u001b[0m \u001b[0mlen\u001b[0m\u001b[0;34m(\u001b[0m\u001b[0mvalue\u001b[0m\u001b[0;34m)\u001b[0m \u001b[0;34m>\u001b[0m \u001b[0;36m0\u001b[0m\u001b[0;34m:\u001b[0m\u001b[0;34m\u001b[0m\u001b[0m\n",
      "\u001b[0;32m/Users/Molly/anaconda/lib/python2.7/site-packages/pandas/core/series.pyc\u001b[0m in \u001b[0;36m_sanitize_index\u001b[0;34m(data, index, copy)\u001b[0m\n\u001b[1;32m   2739\u001b[0m \u001b[0;34m\u001b[0m\u001b[0m\n\u001b[1;32m   2740\u001b[0m     \u001b[0;32mif\u001b[0m \u001b[0mlen\u001b[0m\u001b[0;34m(\u001b[0m\u001b[0mdata\u001b[0m\u001b[0;34m)\u001b[0m \u001b[0;34m!=\u001b[0m \u001b[0mlen\u001b[0m\u001b[0;34m(\u001b[0m\u001b[0mindex\u001b[0m\u001b[0;34m)\u001b[0m\u001b[0;34m:\u001b[0m\u001b[0;34m\u001b[0m\u001b[0m\n\u001b[0;32m-> 2741\u001b[0;31m         raise ValueError('Length of values does not match length of '\n\u001b[0m\u001b[1;32m   2742\u001b[0m                          'index')\n\u001b[1;32m   2743\u001b[0m \u001b[0;34m\u001b[0m\u001b[0m\n",
      "\u001b[0;31mValueError\u001b[0m: Length of values does not match length of index"
     ]
    }
   ],
   "source": [
    "label = []\n",
    "for index, row in brca_df.iterrows():\n",
    "    snv_info = snv_df.loc[snv_df[\"short_barcode\"] == row['short_barcode']]\n",
    "    cnv_info = cnv_df.loc[cnv_df[\"short_barcode\"] == row['short_barcode']]\n",
    "    if len(snv_info) == 0 and len(cnv_info) == 0:\n",
    "        label.append(2)\n",
    "    elif len(snv_info) == 0 and len(cnv_info) != 0:\n",
    "        if int(cnv_info['cnv']) == -2:\n",
    "            label.append(1)\n",
    "        else:\n",
    "            label.append(0)\n",
    "    elif len(snv_info) != 0 and len(cnv_info) == 0:\n",
    "        pass\n",
    "#         print snv_info.shape\n",
    "#         print snv_info['Variant_Classification']\n",
    "    elif len(snv_info) == 1 and len(cnv_info) == 1:\n",
    "        pass\n",
    "#         print snv_info.shape\n",
    "#         print snv_info['Variant_Classification']\n",
    "    else:\n",
    "        print snv_info['Variant_Classification']\n",
    "        \n",
    "        \n",
    "#         snv_type = str(snv_info['Variant_Classification'])\n",
    "        \n",
    "#         if snv_type not in [\"Silent\", \"Intron\", \"5'UTR\", \"3'UTR\"]:\n",
    "#             label.append(1)\n",
    "#         elif int(cnv_info['cnv']) == -2:\n",
    "#             label.append(1)\n",
    "#         else:\n",
    "#             label.append(0)\n",
    "\n",
    "brca_df['TP53+'] = label"
   ]
  },
  {
   "cell_type": "code",
   "execution_count": 7,
   "metadata": {
    "collapsed": false,
    "scrolled": true
   },
   "outputs": [
    {
     "name": "stdout",
     "output_type": "stream",
     "text": [
      "1    1191\n",
      "2      27\n",
      "Name: TP53+, dtype: int64\n"
     ]
    }
   ],
   "source": [
    "print brca_df['TP53+'].value_counts()"
   ]
  },
  {
   "cell_type": "code",
   "execution_count": 29,
   "metadata": {
    "collapsed": true
   },
   "outputs": [],
   "source": [
    "brca_df.to_csv(\"data/by_tissue_RNASeq/RNASeq_BRCA_labled.tsv\", sep=\"\\t\", index=False)"
   ]
  },
  {
   "cell_type": "code",
   "execution_count": null,
   "metadata": {
    "collapsed": true
   },
   "outputs": [],
   "source": []
  }
 ],
 "metadata": {
  "kernelspec": {
   "display_name": "Python 3",
   "language": "python",
   "name": "python3"
  },
  "language_info": {
   "codemirror_mode": {
    "name": "ipython",
    "version": 3
   },
   "file_extension": ".py",
   "mimetype": "text/x-python",
   "name": "python",
   "nbconvert_exporter": "python",
   "pygments_lexer": "ipython3",
   "version": "3.6.0"
  }
 },
 "nbformat": 4,
 "nbformat_minor": 0
}
