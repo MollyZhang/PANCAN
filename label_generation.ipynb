{
 "cells": [
  {
   "cell_type": "code",
   "execution_count": 1,
   "metadata": {
    "collapsed": true
   },
   "outputs": [],
   "source": [
    "import pandas as pd"
   ]
  },
  {
   "cell_type": "code",
   "execution_count": 2,
   "metadata": {
    "collapsed": true
   },
   "outputs": [],
   "source": [
    "brca_df = pd.read_csv(\"data/by_tissue_RNASeq/RNASeq_BRCA.tsv\", sep=\"\\t\")"
   ]
  },
  {
   "cell_type": "code",
   "execution_count": 20,
   "metadata": {
    "collapsed": true
   },
   "outputs": [],
   "source": [
    "snv_df = pd.read_csv(\"data/snv_TP53.tsv\", sep=\"\\t\")"
   ]
  },
  {
   "cell_type": "code",
   "execution_count": 21,
   "metadata": {
    "collapsed": true
   },
   "outputs": [],
   "source": [
    "cnv_df = pd.read_csv(\"data/cnv_TP53_transposed.tsv\", sep='\\t')"
   ]
  },
  {
   "cell_type": "code",
   "execution_count": 22,
   "metadata": {
    "collapsed": false,
    "scrolled": true
   },
   "outputs": [
    {
     "name": "stdout",
     "output_type": "stream",
     "text": [
      "                 sample_barcode short_barcode  ?|100130426  ?|100133144  \\\n",
      "0  TCGA-3C-AAAU-01A-11R-A41B-07  TCGA-3C-AAAU       0.0000      16.3644   \n",
      "1  TCGA-3C-AALI-01A-11R-A41B-07  TCGA-3C-AALI       0.0000       9.2659   \n",
      "2  TCGA-3C-AALJ-01A-31R-A41B-07  TCGA-3C-AALJ       0.9066      11.6228   \n",
      "3  TCGA-3C-AALK-01A-11R-A41B-07  TCGA-3C-AALK       0.0000      12.0894   \n",
      "4  TCGA-4H-AAAK-01A-12R-A41B-07  TCGA-4H-AAAK       0.0000       6.8468   \n",
      "\n",
      "   ?|100134869   ?|10357   ?|10431  ?|136542  ?|155060  ?|26823     ...      \\\n",
      "0      12.9316   52.1503   408.076         0  1187.010   0.0000     ...       \n",
      "1      17.3790   69.7553   563.893         0   516.041   1.0875     ...       \n",
      "2       9.2294  154.2970  1360.830         0   592.022   0.0000     ...       \n",
      "3      11.0799  143.8640   865.536         0   552.751   0.4137     ...       \n",
      "4      14.4298   84.2128   766.383         0   260.851   0.4255     ...       \n",
      "\n",
      "   ZWILCH|55055  ZWINT|11130  ZXDA|7789  ZXDB|158586  ZXDC|79364  \\\n",
      "0       415.824      931.957   129.5920     1007.780    1658.500   \n",
      "1      1161.330      965.198    59.8151      448.613    1343.120   \n",
      "2       305.422     2531.280    35.3581      533.998     768.812   \n",
      "3       394.506      668.597    55.0269      437.733     863.881   \n",
      "4       405.711      674.468    48.9362      424.255    1049.790   \n",
      "\n",
      "   ZYG11A|440590  ZYG11B|79699  ZYX|7791  ZZEF1|23140  ZZZ3|26009  \n",
      "0       258.4940      1208.370   3507.25     1894.930    1180.460  \n",
      "1       198.4770       603.589   5504.62     1318.650     406.743  \n",
      "2       331.8220       532.185   5458.75      942.883     509.519  \n",
      "3       175.4240       607.365   5691.35      781.134     700.869  \n",
      "4        14.0426       775.745   4041.70      831.915     881.702  \n",
      "\n",
      "[5 rows x 20533 columns]\n",
      "  Hugo_Symbol  Entrez_Gene_Id Center NCBI_Build  Chromosome  Start_Position  \\\n",
      "0        TP53               0      .     GRCh37          17         7572657   \n",
      "1        TP53               0      .     GRCh37          17         7572688   \n",
      "2        TP53               0      .     GRCh37          17         7572740   \n",
      "3        TP53               0      .     GRCh37          17         7572759   \n",
      "4        TP53               0      .     GRCh37          17         7572786   \n",
      "\n",
      "   End_Position Strand Variant_Classification Variant_Type      ...       \\\n",
      "0       7572657      +                  3'UTR          SNP      ...        \n",
      "1       7572688      +                  3'UTR          SNP      ...        \n",
      "2       7572740      +                  3'UTR          SNP      ...        \n",
      "3       7572759      +                  3'UTR          SNP      ...        \n",
      "4       7572786      +                  3'UTR          SNP      ...        \n",
      "\n",
      "  ExAC_AF_OTH ExAC_AF_SAS GENE_PHENO FILTER COSMIC  \\\n",
      "0           .           .          .   PASS   NONE   \n",
      "1           .           .          .   PASS   NONE   \n",
      "2           .           .          .   PASS   NONE   \n",
      "3           .           .          .   PASS   NONE   \n",
      "4           .           .          .   PASS   NONE   \n",
      "\n",
      "                                    CENTERS      CONTEXT DBVS NCALLERS  \\\n",
      "0  SOMATICSNIPER|MUSE|RADIA|VARSCANS|MUTECT  TGCAAGAACAT    .        5   \n",
      "1  SOMATICSNIPER|MUSE|MUTECT|VARSCANS|RADIA  CCCTCACAGTA    .        5   \n",
      "2                               MUSE|MUTECT  TCCTCCCCACA    .        2   \n",
      "3                               MUSE|MUTECT  CCAGTGCAGGC    .        2   \n",
      "4                MUSE|MUTECT|VARSCANS|RADIA  GCCCCGGGACA    .        4   \n",
      "\n",
      "  short_barcode  \n",
      "0  TCGA-AG-A002  \n",
      "1  TCGA-A5-A0G1  \n",
      "2  TCGA-DD-AAC8  \n",
      "3  TCGA-AX-A06F  \n",
      "4  TCGA-D7-A4YV  \n",
      "\n",
      "[5 rows x 115 columns]\n",
      "                 sample_barcode short_barcode  cnv\n",
      "0  TCGA-OR-A5J1-01A-11D-A29H-01  TCGA-OR-A5J1    0\n",
      "1  TCGA-OR-A5J2-01A-11D-A29H-01  TCGA-OR-A5J2    0\n",
      "2  TCGA-OR-A5J3-01A-11D-A29H-01  TCGA-OR-A5J3    0\n",
      "3  TCGA-OR-A5J4-01A-11D-A29H-01  TCGA-OR-A5J4    1\n",
      "4  TCGA-OR-A5J5-01A-11D-A29H-01  TCGA-OR-A5J5    0\n"
     ]
    }
   ],
   "source": [
    "print brca_df.head()\n",
    "print snv_df.head()\n",
    "print cnv_df.head()"
   ]
  },
  {
   "cell_type": "code",
   "execution_count": 36,
   "metadata": {
    "collapsed": false
   },
   "outputs": [],
   "source": [
    "label = []\n",
    "for index, row in brca_df.iterrows():\n",
    "    snv_info = snv_df.loc[snv_df[\"short_barcode\"] == row['short_barcode']]\n",
    "    cnv_info = cnv_df.loc[cnv_df[\"short_barcode\"] == row['short_barcode']]\n",
    "    \n",
    "    if len(snv_info) != 0 and str(snv_info['Variant_Classification']) != \"Silent\":\n",
    "        label.append(\"-\")\n",
    "    elif len(cnv_info) != 0 and int(cnv_info['cnv']) == -2:\n",
    "        label.append(\"-\")\n",
    "    else:\n",
    "        label.append(\"+\")\n",
    "brca_df['label'] = label"
   ]
  },
  {
   "cell_type": "code",
   "execution_count": 37,
   "metadata": {
    "collapsed": false,
    "scrolled": true
   },
   "outputs": [
    {
     "name": "stdout",
     "output_type": "stream",
     "text": [
      "                 sample_barcode short_barcode  ?|100130426  ?|100133144  \\\n",
      "0  TCGA-3C-AAAU-01A-11R-A41B-07  TCGA-3C-AAAU       0.0000      16.3644   \n",
      "1  TCGA-3C-AALI-01A-11R-A41B-07  TCGA-3C-AALI       0.0000       9.2659   \n",
      "2  TCGA-3C-AALJ-01A-31R-A41B-07  TCGA-3C-AALJ       0.9066      11.6228   \n",
      "3  TCGA-3C-AALK-01A-11R-A41B-07  TCGA-3C-AALK       0.0000      12.0894   \n",
      "4  TCGA-4H-AAAK-01A-12R-A41B-07  TCGA-4H-AAAK       0.0000       6.8468   \n",
      "\n",
      "   ?|100134869   ?|10357   ?|10431  ?|136542  ?|155060  ?|26823  ...    \\\n",
      "0      12.9316   52.1503   408.076         0  1187.010   0.0000  ...     \n",
      "1      17.3790   69.7553   563.893         0   516.041   1.0875  ...     \n",
      "2       9.2294  154.2970  1360.830         0   592.022   0.0000  ...     \n",
      "3      11.0799  143.8640   865.536         0   552.751   0.4137  ...     \n",
      "4      14.4298   84.2128   766.383         0   260.851   0.4255  ...     \n",
      "\n",
      "   ZWINT|11130  ZXDA|7789  ZXDB|158586  ZXDC|79364  ZYG11A|440590  \\\n",
      "0      931.957   129.5920     1007.780    1658.500       258.4940   \n",
      "1      965.198    59.8151      448.613    1343.120       198.4770   \n",
      "2     2531.280    35.3581      533.998     768.812       331.8220   \n",
      "3      668.597    55.0269      437.733     863.881       175.4240   \n",
      "4      674.468    48.9362      424.255    1049.790        14.0426   \n",
      "\n",
      "   ZYG11B|79699  ZYX|7791  ZZEF1|23140  ZZZ3|26009  label  \n",
      "0      1208.370   3507.25     1894.930    1180.460      +  \n",
      "1       603.589   5504.62     1318.650     406.743      -  \n",
      "2       532.185   5458.75      942.883     509.519      +  \n",
      "3       607.365   5691.35      781.134     700.869      +  \n",
      "4       775.745   4041.70      831.915     881.702      +  \n",
      "\n",
      "[5 rows x 20534 columns]\n",
      "+    822\n",
      "-    396\n",
      "Name: label, dtype: int64\n"
     ]
    }
   ],
   "source": [
    "print brca_df.head()\n",
    "print brca_df['label'].value_counts()"
   ]
  },
  {
   "cell_type": "code",
   "execution_count": null,
   "metadata": {
    "collapsed": false
   },
   "outputs": [],
   "source": [
    "cols =  list(brca_df.columns)\n",
    "new_cols = cols[0:2] + [cols[-1]] + cols[2:-1]\n",
    "brca_df = brca_df[new_cols]\n",
    "brca_df.to_csv(\"data/by_tissue_RNASeq/RNASeq_BRCA_labled.tsv\", sep=\"\\t\")"
   ]
  },
  {
   "cell_type": "code",
   "execution_count": null,
   "metadata": {
    "collapsed": true
   },
   "outputs": [],
   "source": []
  }
 ],
 "metadata": {
  "kernelspec": {
   "display_name": "Python 2",
   "language": "python",
   "name": "python2"
  },
  "language_info": {
   "codemirror_mode": {
    "name": "ipython",
    "version": 2
   },
   "file_extension": ".py",
   "mimetype": "text/x-python",
   "name": "python",
   "nbconvert_exporter": "python",
   "pygments_lexer": "ipython2",
   "version": "2.7.11"
  }
 },
 "nbformat": 4,
 "nbformat_minor": 0
}
