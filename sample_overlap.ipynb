{
 "cells": [
  {
   "cell_type": "code",
   "execution_count": 2,
   "metadata": {
    "collapsed": true
   },
   "outputs": [],
   "source": [
    "import pandas as pd"
   ]
  },
  {
   "cell_type": "code",
   "execution_count": 5,
   "metadata": {
    "collapsed": true
   },
   "outputs": [],
   "source": [
    "CLIN = \"data/clinical.tsv\"\n",
    "RNASEQ = \"data/RNASeq_transposed.tsv\""
   ]
  },
  {
   "cell_type": "code",
   "execution_count": 9,
   "metadata": {
    "collapsed": false
   },
   "outputs": [],
   "source": [
    "clinical_df = pd.read_csv(CLIN, sep=\"\\t\", low_memory=False)\n",
    "clinical_barcodes = clinical_df['bcr_patient_barcode']"
   ]
  },
  {
   "cell_type": "code",
   "execution_count": 10,
   "metadata": {
    "collapsed": false,
    "scrolled": true
   },
   "outputs": [
    {
     "name": "stdout",
     "output_type": "stream",
     "text": [
      "0        TCGA-OR-A5J1\n",
      "1        TCGA-OR-A5J2\n",
      "2        TCGA-OR-A5J3\n",
      "3        TCGA-OR-A5J4\n",
      "4        TCGA-OR-A5J5\n",
      "5        TCGA-OR-A5J6\n",
      "6        TCGA-OR-A5J7\n",
      "7        TCGA-OR-A5J8\n",
      "8        TCGA-OR-A5J9\n",
      "9        TCGA-OR-A5JA\n",
      "10       TCGA-OR-A5JB\n",
      "11       TCGA-OR-A5JC\n",
      "12       TCGA-OR-A5JD\n",
      "13       TCGA-OR-A5JE\n",
      "14       TCGA-OR-A5JF\n",
      "15       TCGA-OR-A5JG\n",
      "16       TCGA-OR-A5JH\n",
      "17       TCGA-OR-A5JI\n",
      "18       TCGA-OR-A5JJ\n",
      "19       TCGA-OR-A5JK\n",
      "20       TCGA-OR-A5JL\n",
      "21       TCGA-OR-A5JM\n",
      "22       TCGA-OR-A5JO\n",
      "23       TCGA-OR-A5JP\n",
      "24       TCGA-OR-A5JQ\n",
      "25       TCGA-OR-A5JR\n",
      "26       TCGA-OR-A5JS\n",
      "27       TCGA-OR-A5JT\n",
      "28       TCGA-OR-A5JU\n",
      "29       TCGA-OR-A5JV\n",
      "             ...     \n",
      "10926    TCGA-VD-A8KM\n",
      "10927    TCGA-VD-A8KN\n",
      "10928    TCGA-VD-A8KO\n",
      "10929    TCGA-VD-AA8M\n",
      "10930    TCGA-VD-AA8N\n",
      "10931    TCGA-VD-AA8O\n",
      "10932    TCGA-VD-AA8P\n",
      "10933    TCGA-VD-AA8Q\n",
      "10934    TCGA-VD-AA8R\n",
      "10935    TCGA-VD-AA8S\n",
      "10936    TCGA-VD-AA8T\n",
      "10937    TCGA-WC-A87T\n",
      "10938    TCGA-WC-A87U\n",
      "10939    TCGA-WC-A87W\n",
      "10940    TCGA-WC-A87Y\n",
      "10941    TCGA-WC-A880\n",
      "10942    TCGA-WC-A881\n",
      "10943    TCGA-WC-A882\n",
      "10944    TCGA-WC-A883\n",
      "10945    TCGA-WC-A884\n",
      "10946    TCGA-WC-A885\n",
      "10947    TCGA-WC-A888\n",
      "10948    TCGA-WC-A88A\n",
      "10949    TCGA-WC-AA9A\n",
      "10950    TCGA-WC-AA9E\n",
      "10951    TCGA-YZ-A980\n",
      "10952    TCGA-YZ-A982\n",
      "10953    TCGA-YZ-A983\n",
      "10954    TCGA-YZ-A984\n",
      "10955    TCGA-YZ-A985\n",
      "Name: bcr_patient_barcode, dtype: object\n"
     ]
    }
   ],
   "source": [
    "print clinical_barcodes"
   ]
  },
  {
   "cell_type": "code",
   "execution_count": 25,
   "metadata": {
    "collapsed": false
   },
   "outputs": [],
   "source": [
    "rnaseq_df = pd.read_csv(\"data/RNASeq_barcodes.txt\", sep=\"\\t\")\n",
    "rnaseq_barcodes = pd.Series([i[:12] for i in rnaseq_df['sample_barcode']])"
   ]
  },
  {
   "cell_type": "code",
   "execution_count": 26,
   "metadata": {
    "collapsed": false,
    "scrolled": true
   },
   "outputs": [
    {
     "name": "stdout",
     "output_type": "stream",
     "text": [
      "0        TCGA-OR-A5J1\n",
      "1        TCGA-OR-A5J2\n",
      "2        TCGA-OR-A5J3\n",
      "3        TCGA-OR-A5J5\n",
      "4        TCGA-OR-A5J6\n",
      "5        TCGA-OR-A5J7\n",
      "6        TCGA-OR-A5J8\n",
      "7        TCGA-OR-A5J9\n",
      "8        TCGA-OR-A5JA\n",
      "9        TCGA-OR-A5JB\n",
      "10       TCGA-OR-A5JC\n",
      "11       TCGA-OR-A5JD\n",
      "12       TCGA-OR-A5JE\n",
      "13       TCGA-OR-A5JF\n",
      "14       TCGA-OR-A5JG\n",
      "15       TCGA-OR-A5JI\n",
      "16       TCGA-OR-A5JJ\n",
      "17       TCGA-OR-A5JK\n",
      "18       TCGA-OR-A5JL\n",
      "19       TCGA-OR-A5JM\n",
      "20       TCGA-OR-A5JO\n",
      "21       TCGA-OR-A5JP\n",
      "22       TCGA-OR-A5JQ\n",
      "23       TCGA-OR-A5JR\n",
      "24       TCGA-OR-A5JS\n",
      "25       TCGA-OR-A5JT\n",
      "26       TCGA-OR-A5JV\n",
      "27       TCGA-OR-A5JW\n",
      "28       TCGA-OR-A5JX\n",
      "29       TCGA-OR-A5JY\n",
      "             ...     \n",
      "11039    TCGA-BR-4357\n",
      "11040    TCGA-BR-4361\n",
      "11041    TCGA-BR-4362\n",
      "11042    TCGA-BR-4363\n",
      "11043    TCGA-BR-4366\n",
      "11044    TCGA-BR-4367\n",
      "11045    TCGA-BR-4368\n",
      "11046    TCGA-BR-4369\n",
      "11047    TCGA-BR-4370\n",
      "11048    TCGA-BR-4371\n",
      "11049    TCGA-CG-4301\n",
      "11050    TCGA-CG-4304\n",
      "11051    TCGA-CG-4305\n",
      "11052    TCGA-CG-4306\n",
      "11053    TCGA-CG-4436\n",
      "11054    TCGA-CG-4438\n",
      "11055    TCGA-CG-4440\n",
      "11056    TCGA-CG-4442\n",
      "11057    TCGA-CG-4443\n",
      "11058    TCGA-CG-4444\n",
      "11059    TCGA-CG-4449\n",
      "11060    TCGA-CG-4462\n",
      "11061    TCGA-CG-4465\n",
      "11062    TCGA-CG-4466\n",
      "11063    TCGA-CG-4469\n",
      "11064    TCGA-CG-4472\n",
      "11065    TCGA-CG-4474\n",
      "11066    TCGA-CG-4475\n",
      "11067    TCGA-CG-4476\n",
      "11068    TCGA-CG-4477\n",
      "dtype: object\n"
     ]
    }
   ],
   "source": [
    "print rnaseq_barcodes"
   ]
  },
  {
   "cell_type": "code",
   "execution_count": 34,
   "metadata": {
    "collapsed": false,
    "scrolled": true
   },
   "outputs": [
    {
     "name": "stdout",
     "output_type": "stream",
     "text": [
      "10956\n",
      "10956\n"
     ]
    }
   ],
   "source": [
    "print len(clinical_barcodes)\n",
    "print len(clinical_barcodes.unique())"
   ]
  },
  {
   "cell_type": "code",
   "execution_count": 32,
   "metadata": {
    "collapsed": false
   },
   "outputs": [
    {
     "name": "stdout",
     "output_type": "stream",
     "text": [
      "11069\n",
      "10274\n"
     ]
    }
   ],
   "source": [
    "print len(rnaseq_barcodes)\n",
    "print len(rnaseq_barcodes.unique())"
   ]
  },
  {
   "cell_type": "code",
   "execution_count": 33,
   "metadata": {
    "collapsed": false
   },
   "outputs": [
    {
     "name": "stdout",
     "output_type": "stream",
     "text": [
      "10062\n"
     ]
    }
   ],
   "source": [
    "print len(set(clinical_barcodes).intersection(set(rnaseq_barcodes)))"
   ]
  },
  {
   "cell_type": "code",
   "execution_count": 38,
   "metadata": {
    "collapsed": false
   },
   "outputs": [
    {
     "name": "stdout",
     "output_type": "stream",
     "text": [
      "11069\n",
      "11069\n"
     ]
    }
   ],
   "source": [
    "# long version of barcode has no repetition\n",
    "print len(rnaseq_df['sample_barcode'])\n",
    "print len(set(rnaseq_df['sample_barcode']))"
   ]
  },
  {
   "cell_type": "code",
   "execution_count": 6,
   "metadata": {
    "collapsed": false
   },
   "outputs": [],
   "source": [
    "brca_df = pd.read_csv(\"data/by_tissue_RNASeq/RNASeq_BRCA.tsv\", sep=\"\\t\")"
   ]
  },
  {
   "cell_type": "code",
   "execution_count": 11,
   "metadata": {
    "collapsed": true
   },
   "outputs": [],
   "source": [
    "snv_df = pd.read_csv(\"data/snv_TP53.tsv\", sep=\"\\t\")"
   ]
  },
  {
   "cell_type": "code",
   "execution_count": 47,
   "metadata": {
    "collapsed": false
   },
   "outputs": [
    {
     "name": "stdout",
     "output_type": "stream",
     "text": [
      "3862\n",
      "3862\n",
      "3862\n",
      "348\n"
     ]
    }
   ],
   "source": [
    "brca_barcodes = pd.Series([i[:12] for i in brca_df['sample_barcode']])\n",
    "snv_barcodes1 = pd.Series([i[:12] for i in snv_df[\"Tumor_Sample_Barcode\"]])\n",
    "snv_barcodes2 = pd.Series([i[:12] for i in snv_df[\"Matched_Norm_Sample_Barcode\"]])\n",
    "print len(set(snv_barcodes1).intersection(set(snv_barcodes2)))\n",
    "print len(set(snv_barcodes1))\n",
    "print len(set(snv_barcodes2))\n",
    "print len(set(snv_barcodes1).intersection(set(brca_barcodes)))\n",
    "\n"
   ]
  },
  {
   "cell_type": "code",
   "execution_count": 50,
   "metadata": {
    "collapsed": false,
    "scrolled": true
   },
   "outputs": [
    {
     "name": "stdout",
     "output_type": "stream",
     "text": [
      "RNASeq_ACC.tsv\n",
      "79,16\n",
      "RNASeq_BLCA.tsv\n",
      "427,201\n",
      "RNASeq_BRCA.tsv\n",
      "1218,348\n",
      "RNASeq_CESC.tsv\n",
      "310,23\n",
      "RNASeq_CHOL.tsv\n",
      "45,4\n",
      "RNASeq_COAD.tsv\n",
      "492,217\n",
      "RNASeq_DLBC.tsv\n",
      "48,5\n",
      "RNASeq_ESCA.tsv\n",
      "196,157\n",
      "RNASeq_GBM.tsv\n",
      "168,54\n",
      "RNASeq_HNSC.tsv\n",
      "566,351\n",
      "RNASeq_KICH.tsv\n",
      "91,22\n",
      "RNASeq_KIRC.tsv\n",
      "606,12\n",
      "RNASeq_KIRP.tsv\n",
      "323,6\n",
      "RNASeq_LGG.tsv\n",
      "533,248\n",
      "RNASeq_LIHC.tsv\n",
      "424,111\n",
      "RNASeq_LUAD.tsv\n",
      "576,264\n",
      "RNASeq_LUSC.tsv\n",
      "553,406\n",
      "RNASeq_MESO.tsv\n",
      "87,14\n",
      "RNASeq_OV.tsv\n",
      "309,194\n",
      "RNASeq_PAAD.tsv\n",
      "183,102\n",
      "RNASeq_PCPG.tsv\n",
      "187,1\n",
      "RNASeq_PRAD.tsv\n",
      "550,57\n",
      "RNASeq_READ.tsv\n",
      "171,103\n",
      "RNASeq_SARC.tsv\n",
      "265,86\n",
      "RNASeq_SKCM.tsv\n",
      "474,76\n",
      "RNASeq_STAD.tsv\n",
      "450,202\n",
      "RNASeq_TGCT.tsv\n",
      "139,1\n",
      "RNASeq_THCA.tsv\n",
      "572,2\n",
      "RNASeq_THYM.tsv\n",
      "122,4\n",
      "RNASeq_UCEC.tsv\n",
      "555,199\n",
      "RNASeq_UCS.tsv\n",
      "57,52\n",
      "RNASeq_UVM.tsv\n",
      "80,0\n",
      "3538\n"
     ]
    }
   ],
   "source": [
    "# find out the overlap of snv with all the tissue specific RNSSeq results\n",
    "from __future__ import print_function\n",
    "import glob\n",
    "files = glob.glob(\"data/by_tissue_RNASeq/*\")\n",
    "n = 0\n",
    "for file in files:\n",
    "    print(file.split(\"/\")[-1])\n",
    "    df = pd.read_csv(file, sep=\"\\t\")\n",
    "    df_barcodes = pd.Series([i[:12] for i in df['sample_barcode']])\n",
    "    print(len(set(df['sample_barcode'])), end=\",\")\n",
    "    intersection = len(set(snv_barcodes1).intersection(set(df_barcodes)))\n",
    "    print(intersection)\n",
    "    n += intersection\n",
    "print(n)\n"
   ]
  },
  {
   "cell_type": "code",
   "execution_count": 52,
   "metadata": {
    "collapsed": true
   },
   "outputs": [],
   "source": [
    "cnv_df = pd.read_csv(\"data/cnv_TP53.tsv\", sep=\"\\t\")"
   ]
  },
  {
   "cell_type": "code",
   "execution_count": 65,
   "metadata": {
    "collapsed": false
   },
   "outputs": [
    {
     "name": "stdout",
     "output_type": "stream",
     "text": [
      "10713\n",
      "10713\n"
     ]
    }
   ],
   "source": [
    "cnv_barcodes = [i[:12] for i in list(cnv_df.columns)[3:]]\n",
    "print(len(cnv_barcodes))\n",
    "print(len(set(cnv_barcodes)))"
   ]
  },
  {
   "cell_type": "code",
   "execution_count": 67,
   "metadata": {
    "collapsed": false,
    "scrolled": true
   },
   "outputs": [
    {
     "name": "stdout",
     "output_type": "stream",
     "text": [
      "RNASeq_ACC.tsv\n",
      "79,76\n",
      "RNASeq_BLCA.tsv\n",
      "427,404\n",
      "RNASeq_BRCA.tsv\n",
      "1218,1068\n",
      "RNASeq_CESC.tsv\n",
      "310,291\n",
      "RNASeq_CHOL.tsv\n",
      "45,36\n",
      "RNASeq_COAD.tsv\n",
      "492,434\n",
      "RNASeq_DLBC.tsv\n",
      "48,48\n",
      "RNASeq_ESCA.tsv\n",
      "196,181\n",
      "RNASeq_GBM.tsv\n",
      "168,154\n",
      "RNASeq_HNSC.tsv\n",
      "566,510\n",
      "RNASeq_KICH.tsv\n",
      "91,65\n",
      "RNASeq_KIRC.tsv\n",
      "606,507\n",
      "RNASeq_KIRP.tsv\n",
      "323,283\n",
      "RNASeq_LGG.tsv\n",
      "533,510\n",
      "RNASeq_LIHC.tsv\n",
      "424,361\n",
      "RNASeq_LUAD.tsv\n",
      "576,508\n",
      "RNASeq_LUSC.tsv\n",
      "553,484\n",
      "RNASeq_MESO.tsv\n",
      "87,87\n",
      "RNASeq_OV.tsv\n",
      "309,296\n",
      "RNASeq_PAAD.tsv\n",
      "183,176\n",
      "RNASeq_PCPG.tsv\n",
      "187,161\n",
      "RNASeq_PRAD.tsv\n",
      "550,488\n",
      "RNASeq_READ.tsv\n",
      "171,155\n",
      "RNASeq_SARC.tsv\n",
      "265,251\n",
      "RNASeq_SKCM.tsv\n",
      "474,367\n",
      "RNASeq_STAD.tsv\n",
      "450,413\n",
      "RNASeq_TGCT.tsv\n",
      "139,133\n",
      "RNASeq_THCA.tsv\n",
      "572,495\n",
      "RNASeq_THYM.tsv\n",
      "122,119\n",
      "RNASeq_UCEC.tsv\n",
      "555,521\n",
      "RNASeq_UCS.tsv\n",
      "57,56\n",
      "RNASeq_UVM.tsv\n",
      "80,80\n",
      "9718\n"
     ]
    }
   ],
   "source": [
    "# find out overlap between cnv samples and RNASeq samples\n",
    "files = glob.glob(\"data/by_tissue_RNASeq/*\")\n",
    "n = 0\n",
    "for file in files:\n",
    "    print(file.split(\"/\")[-1])\n",
    "    df = pd.read_csv(file, sep=\"\\t\")\n",
    "    df_barcodes = pd.Series([i[:12] for i in df['sample_barcode']])\n",
    "    print(len(set(df['sample_barcode'])), end=\",\")\n",
    "    intersection = len(set(cnv_barcodes).intersection(set(df_barcodes)))\n",
    "    print(intersection)\n",
    "    n += intersection\n",
    "print(n)"
   ]
  },
  {
   "cell_type": "code",
   "execution_count": null,
   "metadata": {
    "collapsed": true
   },
   "outputs": [],
   "source": []
  }
 ],
 "metadata": {
  "kernelspec": {
   "display_name": "Python 2",
   "language": "python",
   "name": "python2"
  },
  "language_info": {
   "codemirror_mode": {
    "name": "ipython",
    "version": 2
   },
   "file_extension": ".py",
   "mimetype": "text/x-python",
   "name": "python",
   "nbconvert_exporter": "python",
   "pygments_lexer": "ipython2",
   "version": "2.7.11"
  }
 },
 "nbformat": 4,
 "nbformat_minor": 0
}
