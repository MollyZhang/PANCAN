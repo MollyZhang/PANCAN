{
 "cells": [
  {
   "cell_type": "code",
   "execution_count": 3,
   "metadata": {
    "collapsed": false
   },
   "outputs": [],
   "source": [
    "import pandas as pd"
   ]
  },
  {
   "cell_type": "code",
   "execution_count": 3,
   "metadata": {
    "collapsed": true
   },
   "outputs": [],
   "source": [
    "sample_code_dic = {\"01\": \"Primary Solid Tumor\",\n",
    "                   \"11\": \"Solid Tissue Normal\",\n",
    "                   \"02\": \"Recurrent Solid Tumor\",\n",
    "                   \"06\": \"Metastatic\",\n",
    "                   \"07\": \"Additional Metastatic\",\n",
    "                   \"05\": \"Additional - New Primary\",\n",
    "                   \"03\": \"Primary Blood Derived Cancer - Peripheral Blood\"}"
   ]
  },
  {
   "cell_type": "code",
   "execution_count": 8,
   "metadata": {
    "collapsed": false
   },
   "outputs": [],
   "source": [
    "df = pd.read_csv(\"data/RNASeq_barcodes.txt\", delimiter=\"\\t\")\n",
    "sample_codes=list(i.split(\"-\")[3][:-1] for i in df.sample_barcode)\n",
    "stats = {sample_code_dic[x]:sample_codes.count(x) for x in sample_codes}"
   ]
  },
  {
   "cell_type": "code",
   "execution_count": 9,
   "metadata": {
    "collapsed": false
   },
   "outputs": [
    {
     "data": {
      "text/plain": [
       "{'Additional - New Primary': 11,\n",
       " 'Additional Metastatic': 1,\n",
       " 'Metastatic': 395,\n",
       " 'Primary Blood Derived Cancer - Peripheral Blood': 173,\n",
       " 'Primary Solid Tumor': 9706,\n",
       " 'Recurrent Solid Tumor': 46,\n",
       " 'Solid Tissue Normal': 737}"
      ]
     },
     "execution_count": 9,
     "metadata": {},
     "output_type": "execute_result"
    }
   ],
   "source": [
    "stats"
   ]
  },
  {
   "cell_type": "code",
   "execution_count": 32,
   "metadata": {
    "collapsed": false
   },
   "outputs": [],
   "source": [
    "tumor_barcodes = [i for i in df.sample_barcode if i.split(\"-\")[3][:-1]==\"01\"]\n",
    "normal_barcodes = [i for i in df.sample_barcode if i.split(\"-\")[3][:-1]==\"11\"]\n",
    "tumor_persons = set([i.split(\"-\")[2] for i in tumor_barcodes])\n",
    "normal_persons = set([i.split(\"-\")[2] for i in normal_barcodes])\n",
    "print(len(normal_persons.intersection(tumor_persons)))\n",
    "\n"
   ]
  }
 ],
 "metadata": {
  "kernelspec": {
   "display_name": "Python 3",
   "language": "python",
   "name": "python3"
  },
  "language_info": {
   "codemirror_mode": {
    "name": "ipython",
    "version": 3
   },
   "file_extension": ".py",
   "mimetype": "text/x-python",
   "name": "python",
   "nbconvert_exporter": "python",
   "pygments_lexer": "ipython3",
   "version": "3.6.0"
  }
 },
 "nbformat": 4,
 "nbformat_minor": 2
}
