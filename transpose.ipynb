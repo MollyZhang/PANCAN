{
 "cells": [
  {
   "cell_type": "code",
   "execution_count": 1,
   "metadata": {
    "collapsed": true
   },
   "outputs": [],
   "source": [
    "import pandas as pd\n",
    "import pandas_profiling as pp"
   ]
  },
  {
   "cell_type": "code",
   "execution_count": 2,
   "metadata": {
    "collapsed": false
   },
   "outputs": [],
   "source": [
    "rna_df = pd.read_csv(\"data/RNASeq.tsv\", sep=\"\\t\", index_col=\"gene_id\")"
   ]
  },
  {
   "cell_type": "code",
   "execution_count": 5,
   "metadata": {
    "collapsed": false,
    "scrolled": true
   },
   "outputs": [
    {
     "name": "stdout",
     "output_type": "stream",
     "text": [
      "             TCGA-OR-A5J1-01A-11R-A29S-07  TCGA-OR-A5J2-01A-11R-A29S-07  \\\n",
      "gene_id                                                                   \n",
      "?|100130426                        0.0000                        0.0000   \n",
      "?|100133144                        3.2661                        2.6815   \n",
      "?|100134869                        3.9385                        8.9948   \n",
      "?|10357                          149.1350                       81.0777   \n",
      "?|10431                         2034.1000                     1304.9300   \n",
      "\n",
      "             TCGA-OR-A5J3-01A-11R-A29S-07  TCGA-OR-A5J5-01A-11R-A29S-07  \\\n",
      "gene_id                                                                   \n",
      "?|100130426                        0.0000                        0.0000   \n",
      "?|100133144                        1.7301                        0.0000   \n",
      "?|100134869                        6.5650                        1.5492   \n",
      "?|10357                           86.4879                       53.9117   \n",
      "?|10431                         1054.6600                     2350.8900   \n",
      "\n",
      "             TCGA-OR-A5J6-01A-31R-A29S-07  TCGA-OR-A5J7-01A-11R-A29S-07  \\\n",
      "gene_id                                                                   \n",
      "?|100130426                        0.0000                        0.0000   \n",
      "?|100133144                        0.0000                        1.1673   \n",
      "?|100134869                        4.4709                        6.0529   \n",
      "?|10357                           66.9063                      103.5060   \n",
      "?|10431                         1257.9900                     1866.4300   \n",
      "\n",
      "             TCGA-OR-A5J8-01A-11R-A29S-07  TCGA-OR-A5J9-01A-11R-A29S-07  \\\n",
      "gene_id                                                                   \n",
      "?|100130426                        0.0000                        0.0000   \n",
      "?|100133144                        1.4422                        0.0000   \n",
      "?|100134869                        2.2876                        1.3599   \n",
      "?|10357                           94.9316                       78.1955   \n",
      "?|10431                          995.0270                     1762.1200   \n",
      "\n",
      "             TCGA-OR-A5JA-01A-11R-A29S-07  TCGA-OR-A5JB-01A-11R-A29S-07  \\\n",
      "gene_id                                                                   \n",
      "?|100130426                        0.0000                        0.0000   \n",
      "?|100133144                        4.4556                        7.1293   \n",
      "?|100134869                        5.0581                        0.0000   \n",
      "?|10357                           69.2389                      155.7090   \n",
      "?|10431                         1213.5300                     2005.5700   \n",
      "\n",
      "                         ...               TCGA-CG-4449-01A-01R-1157-13  \\\n",
      "gene_id                  ...                                              \n",
      "?|100130426              ...                                        NaN   \n",
      "?|100133144              ...                                   4.358154   \n",
      "?|100134869              ...                                   2.656360   \n",
      "?|10357                  ...                                 633.299781   \n",
      "?|10431                  ...                                1202.538277   \n",
      "\n",
      "             TCGA-CG-4462-01A-01R-1157-13  TCGA-CG-4465-01A-01R-1157-13  \\\n",
      "gene_id                                                                   \n",
      "?|100130426                           NaN                           NaN   \n",
      "?|100133144                      5.676995                      5.219350   \n",
      "?|100134869                      3.342794                      2.423442   \n",
      "?|10357                        294.018042                    686.569179   \n",
      "?|10431                        644.002317                   1181.884532   \n",
      "\n",
      "             TCGA-CG-4466-01A-01R-1157-13  TCGA-CG-4469-01A-01R-1157-13  \\\n",
      "gene_id                                                                   \n",
      "?|100130426                           NaN                           NaN   \n",
      "?|100133144                     14.846708                     20.115492   \n",
      "?|100134869                      5.055287                     11.626054   \n",
      "?|10357                        563.573453                   1039.307597   \n",
      "?|10431                        663.885074                    647.530395   \n",
      "\n",
      "             TCGA-CG-4472-01A-01R-1157-13  TCGA-CG-4474-01A-02R-1157-13  \\\n",
      "gene_id                                                                   \n",
      "?|100130426                           NaN                           NaN   \n",
      "?|100133144                      6.997533                     18.311906   \n",
      "?|100134869                     13.654193                      7.417109   \n",
      "?|10357                        639.238135                    742.479964   \n",
      "?|10431                       1297.152549                   1152.909807   \n",
      "\n",
      "             TCGA-CG-4475-01A-01R-1157-13  TCGA-CG-4476-01A-01R-1157-13  \\\n",
      "gene_id                                                                   \n",
      "?|100130426                           NaN                           NaN   \n",
      "?|100133144                     12.057112                     18.628740   \n",
      "?|100134869                     11.585177                     11.482418   \n",
      "?|10357                        506.336449                    712.452165   \n",
      "?|10431                       1375.495774                    971.893874   \n",
      "\n",
      "             TCGA-CG-4477-01A-01R-1157-13  \n",
      "gene_id                                    \n",
      "?|100130426                           NaN  \n",
      "?|100133144                     17.874417  \n",
      "?|100134869                     14.919338  \n",
      "?|10357                        703.713324  \n",
      "?|10431                       1736.988111  \n",
      "\n",
      "[5 rows x 11069 columns]\n"
     ]
    }
   ],
   "source": [
    "print rna_df.head()"
   ]
  },
  {
   "cell_type": "code",
   "execution_count": 6,
   "metadata": {
    "collapsed": true
   },
   "outputs": [],
   "source": [
    "t_df = rna_df.transpose()"
   ]
  },
  {
   "cell_type": "code",
   "execution_count": 8,
   "metadata": {
    "collapsed": false,
    "scrolled": true
   },
   "outputs": [
    {
     "name": "stdout",
     "output_type": "stream",
     "text": [
      "gene_id                       ?|100130426  ?|100133144  ?|100134869   ?|10357  \\\n",
      "TCGA-OR-A5J1-01A-11R-A29S-07            0       3.2661       3.9385  149.1350   \n",
      "TCGA-OR-A5J2-01A-11R-A29S-07            0       2.6815       8.9948   81.0777   \n",
      "TCGA-OR-A5J3-01A-11R-A29S-07            0       1.7301       6.5650   86.4879   \n",
      "TCGA-OR-A5J5-01A-11R-A29S-07            0       0.0000       1.5492   53.9117   \n",
      "TCGA-OR-A5J6-01A-31R-A29S-07            0       0.0000       4.4709   66.9063   \n",
      "\n",
      "gene_id                       ?|10431  ?|136542  ?|155060  ?|26823  ?|280660  \\\n",
      "TCGA-OR-A5J1-01A-11R-A29S-07  2034.10         0   274.255   1.4409         0   \n",
      "TCGA-OR-A5J2-01A-11R-A29S-07  1304.93         0   199.302   0.0000         0   \n",
      "TCGA-OR-A5J3-01A-11R-A29S-07  1054.66         0   348.393   0.5925         0   \n",
      "TCGA-OR-A5J5-01A-11R-A29S-07  2350.89         0   439.194   0.7746         0   \n",
      "TCGA-OR-A5J6-01A-31R-A29S-07  1257.99         0   149.215   0.0000         0   \n",
      "\n",
      "gene_id                       ?|317712     ...      ZWILCH|55055  ZWINT|11130  \\\n",
      "TCGA-OR-A5J1-01A-11R-A29S-07         0     ...          183.9580     146.9740   \n",
      "TCGA-OR-A5J2-01A-11R-A29S-07         0     ...          264.1250     438.4640   \n",
      "TCGA-OR-A5J3-01A-11R-A29S-07         0     ...           90.6532     190.1940   \n",
      "TCGA-OR-A5J5-01A-11R-A29S-07         0     ...          260.2630     840.4340   \n",
      "TCGA-OR-A5J6-01A-31R-A29S-07         0     ...           64.2685      63.1508   \n",
      "\n",
      "gene_id                       ZXDA|7789  ZXDB|158586  ZXDC|79364  \\\n",
      "TCGA-OR-A5J1-01A-11R-A29S-07    20.6532      351.585    1050.910   \n",
      "TCGA-OR-A5J2-01A-11R-A29S-07    57.1735      279.023    2979.870   \n",
      "TCGA-OR-A5J3-01A-11R-A29S-07    39.6978      495.334     914.827   \n",
      "TCGA-OR-A5J5-01A-11R-A29S-07    17.8156      206.042     890.782   \n",
      "TCGA-OR-A5J6-01A-31R-A29S-07    12.8537      117.919     894.730   \n",
      "\n",
      "gene_id                       ZYG11A|440590  ZYG11B|79699  ZYX|7791  \\\n",
      "TCGA-OR-A5J1-01A-11R-A29S-07         0.4803       648.415  1841.020   \n",
      "TCGA-OR-A5J2-01A-11R-A29S-07        31.4052      1166.020  3059.990   \n",
      "TCGA-OR-A5J3-01A-11R-A29S-07         0.5925       806.399  2655.610   \n",
      "TCGA-OR-A5J5-01A-11R-A29S-07        11.6189       553.834  2367.930   \n",
      "TCGA-OR-A5J6-01A-31R-A29S-07         7.8240       795.812   708.071   \n",
      "\n",
      "gene_id                       ZZEF1|23140  ZZZ3|26009  \n",
      "TCGA-OR-A5J1-01A-11R-A29S-07     1157.540     596.062  \n",
      "TCGA-OR-A5J2-01A-11R-A29S-07     1895.990     801.637  \n",
      "TCGA-OR-A5J3-01A-11R-A29S-07     1482.450     437.269  \n",
      "TCGA-OR-A5J5-01A-11R-A29S-07     1140.200     512.781  \n",
      "TCGA-OR-A5J6-01A-31R-A29S-07      796.371     475.587  \n",
      "\n",
      "[5 rows x 20531 columns]\n"
     ]
    }
   ],
   "source": [
    "print t_df.head()"
   ]
  },
  {
   "cell_type": "code",
   "execution_count": 26,
   "metadata": {
    "collapsed": true
   },
   "outputs": [],
   "source": [
    "t_df.to_csv(\"data/RNASeq_transposed.tsv\", sep=\"\\t\", index_label=\"sample_barcode\")"
   ]
  },
  {
   "cell_type": "code",
   "execution_count": 27,
   "metadata": {
    "collapsed": true
   },
   "outputs": [],
   "source": [
    "new_df = pd.read_csv(\"data/RNASeq_transposed.tsv\", sep=\"\\t\", index_col=\"sample_barcode\")"
   ]
  },
  {
   "cell_type": "code",
   "execution_count": 28,
   "metadata": {
    "collapsed": false
   },
   "outputs": [
    {
     "name": "stdout",
     "output_type": "stream",
     "text": [
      "                              ?|100130426  ?|100133144  ?|100134869   ?|10357  \\\n",
      "sample_barcode                                                                  \n",
      "TCGA-OR-A5J1-01A-11R-A29S-07            0       3.2661       3.9385  149.1350   \n",
      "TCGA-OR-A5J2-01A-11R-A29S-07            0       2.6815       8.9948   81.0777   \n",
      "TCGA-OR-A5J3-01A-11R-A29S-07            0       1.7301       6.5650   86.4879   \n",
      "TCGA-OR-A5J5-01A-11R-A29S-07            0       0.0000       1.5492   53.9117   \n",
      "TCGA-OR-A5J6-01A-31R-A29S-07            0       0.0000       4.4709   66.9063   \n",
      "\n",
      "                              ?|10431  ?|136542  ?|155060  ?|26823  ?|280660  \\\n",
      "sample_barcode                                                                 \n",
      "TCGA-OR-A5J1-01A-11R-A29S-07  2034.10         0   274.255   1.4409         0   \n",
      "TCGA-OR-A5J2-01A-11R-A29S-07  1304.93         0   199.302   0.0000         0   \n",
      "TCGA-OR-A5J3-01A-11R-A29S-07  1054.66         0   348.393   0.5925         0   \n",
      "TCGA-OR-A5J5-01A-11R-A29S-07  2350.89         0   439.194   0.7746         0   \n",
      "TCGA-OR-A5J6-01A-31R-A29S-07  1257.99         0   149.215   0.0000         0   \n",
      "\n",
      "                              ?|317712     ...      ZWILCH|55055  ZWINT|11130  \\\n",
      "sample_barcode                             ...                                  \n",
      "TCGA-OR-A5J1-01A-11R-A29S-07         0     ...          183.9580     146.9740   \n",
      "TCGA-OR-A5J2-01A-11R-A29S-07         0     ...          264.1250     438.4640   \n",
      "TCGA-OR-A5J3-01A-11R-A29S-07         0     ...           90.6532     190.1940   \n",
      "TCGA-OR-A5J5-01A-11R-A29S-07         0     ...          260.2630     840.4340   \n",
      "TCGA-OR-A5J6-01A-31R-A29S-07         0     ...           64.2685      63.1508   \n",
      "\n",
      "                              ZXDA|7789  ZXDB|158586  ZXDC|79364  \\\n",
      "sample_barcode                                                     \n",
      "TCGA-OR-A5J1-01A-11R-A29S-07    20.6532      351.585    1050.910   \n",
      "TCGA-OR-A5J2-01A-11R-A29S-07    57.1735      279.023    2979.870   \n",
      "TCGA-OR-A5J3-01A-11R-A29S-07    39.6978      495.334     914.827   \n",
      "TCGA-OR-A5J5-01A-11R-A29S-07    17.8156      206.042     890.782   \n",
      "TCGA-OR-A5J6-01A-31R-A29S-07    12.8537      117.919     894.730   \n",
      "\n",
      "                              ZYG11A|440590  ZYG11B|79699  ZYX|7791  \\\n",
      "sample_barcode                                                        \n",
      "TCGA-OR-A5J1-01A-11R-A29S-07         0.4803       648.415  1841.020   \n",
      "TCGA-OR-A5J2-01A-11R-A29S-07        31.4052      1166.020  3059.990   \n",
      "TCGA-OR-A5J3-01A-11R-A29S-07         0.5925       806.399  2655.610   \n",
      "TCGA-OR-A5J5-01A-11R-A29S-07        11.6189       553.834  2367.930   \n",
      "TCGA-OR-A5J6-01A-31R-A29S-07         7.8240       795.812   708.071   \n",
      "\n",
      "                              ZZEF1|23140  ZZZ3|26009  \n",
      "sample_barcode                                         \n",
      "TCGA-OR-A5J1-01A-11R-A29S-07     1157.540     596.062  \n",
      "TCGA-OR-A5J2-01A-11R-A29S-07     1895.990     801.637  \n",
      "TCGA-OR-A5J3-01A-11R-A29S-07     1482.450     437.269  \n",
      "TCGA-OR-A5J5-01A-11R-A29S-07     1140.200     512.781  \n",
      "TCGA-OR-A5J6-01A-31R-A29S-07      796.371     475.587  \n",
      "\n",
      "[5 rows x 20531 columns]\n"
     ]
    }
   ],
   "source": [
    "print new_df.head()"
   ]
  },
  {
   "cell_type": "code",
   "execution_count": null,
   "metadata": {
    "collapsed": true
   },
   "outputs": [],
   "source": []
  }
 ],
 "metadata": {
  "kernelspec": {
   "display_name": "Python 2",
   "language": "python",
   "name": "python2"
  },
  "language_info": {
   "codemirror_mode": {
    "name": "ipython",
    "version": 2
   },
   "file_extension": ".py",
   "mimetype": "text/x-python",
   "name": "python",
   "nbconvert_exporter": "python",
   "pygments_lexer": "ipython2",
   "version": "2.7.11"
  }
 },
 "nbformat": 4,
 "nbformat_minor": 0
}
