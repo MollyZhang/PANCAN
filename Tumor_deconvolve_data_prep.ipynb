{
 "cells": [
  {
   "cell_type": "code",
   "execution_count": 1,
   "metadata": {
    "collapsed": false
   },
   "outputs": [
    {
     "data": {
      "application/javascript": [
       "IPython.notebook.set_autosave_interval(30000)"
      ]
     },
     "metadata": {},
     "output_type": "display_data"
    },
    {
     "name": "stdout",
     "output_type": "stream",
     "text": [
      "Autosaving every 30 seconds\n"
     ]
    }
   ],
   "source": [
    "import pandas as pd\n",
    "import pickle\n",
    "from matplotlib import pyplot as plt\n",
    "\n",
    "%matplotlib inline\n",
    "%autosave 30"
   ]
  },
  {
   "cell_type": "code",
   "execution_count": 2,
   "metadata": {
    "collapsed": true
   },
   "outputs": [],
   "source": [
    "sample_code_dic = {\"01\": \"Primary Solid Tumor\",\n",
    "                   \"11\": \"Solid Tissue Normal\",\n",
    "                   \"02\": \"Recurrent Solid Tumor\",\n",
    "                   \"06\": \"Metastatic\",\n",
    "                   \"07\": \"Additional Metastatic\",\n",
    "                   \"05\": \"Additional - New Primary\",\n",
    "                   \"03\": \"Primary Blood Derived Cancer - Peripheral Blood\"}"
   ]
  },
  {
   "cell_type": "code",
   "execution_count": 8,
   "metadata": {
    "collapsed": false
   },
   "outputs": [],
   "source": [
    "df = pd.read_csv(\"data/RNASeq_barcodes.txt\", delimiter=\"\\t\")\n",
    "sample_codes=list(i.split(\"-\")[3][:-1] for i in df.sample_barcode)\n",
    "stats = {sample_code_dic[x]:sample_codes.count(x) for x in sample_codes}"
   ]
  },
  {
   "cell_type": "code",
   "execution_count": 9,
   "metadata": {
    "collapsed": false
   },
   "outputs": [
    {
     "data": {
      "text/plain": [
       "{'Additional - New Primary': 11,\n",
       " 'Additional Metastatic': 1,\n",
       " 'Metastatic': 395,\n",
       " 'Primary Blood Derived Cancer - Peripheral Blood': 173,\n",
       " 'Primary Solid Tumor': 9706,\n",
       " 'Recurrent Solid Tumor': 46,\n",
       " 'Solid Tissue Normal': 737}"
      ]
     },
     "execution_count": 9,
     "metadata": {},
     "output_type": "execute_result"
    }
   ],
   "source": [
    "stats"
   ]
  },
  {
   "cell_type": "code",
   "execution_count": 73,
   "metadata": {
    "collapsed": false
   },
   "outputs": [],
   "source": [
    "tumor_barcodes = [i for i in df.sample_barcode if i.split(\"-\")[3][:-1]==\"01\"]\n",
    "normal_barcodes = [i for i in df.sample_barcode if i.split(\"-\")[3][:-1]==\"11\"]\n",
    "tumor_persons = set([i.split(\"-\")[2] for i in tumor_barcodes])\n",
    "normal_persons = set([i.split(\"-\")[2] for i in normal_barcodes])\n",
    "overlap = normal_persons.intersection(tumor_persons)\n",
    "overlap_barcodes = [i for i in df.sample_barcode if \n",
    "                    (i.split(\"-\")[2] in overlap and i.split(\"-\")[3][:-1] in [\"01\", \"11\"])]"
   ]
  },
  {
   "cell_type": "code",
   "execution_count": 56,
   "metadata": {
    "collapsed": false
   },
   "outputs": [],
   "source": [
    "pickle.dump(overlap, open(\"data/matched_tumor_normal_patients.pkl\", \"wb\"))"
   ]
  },
  {
   "cell_type": "code",
   "execution_count": 63,
   "metadata": {
    "collapsed": false
   },
   "outputs": [],
   "source": [
    "mRNA = pd.read_csv(\"data/RNASeq_transposed.tsv\", delimiter=\"\\t\")"
   ]
  },
  {
   "cell_type": "code",
   "execution_count": 138,
   "metadata": {
    "collapsed": false
   },
   "outputs": [],
   "source": [
    "tumor_normal_df = mRNA[mRNA.sample_barcode.isin(overlap_barcodes)].copy()\n",
    "tumor_normal_df[\"label\"] = [1 if i.split(\"-\")[3][:-1] == \"11\" else 0 \n",
    "                            for i in tumor_normal_df.sample_barcode]\n",
    "tumor_normal_df[\"patient_id\"] = [i.split(\"-\")[2] \n",
    "                                 for i in tumor_normal_df.sample_barcode]\n",
    "final_df = tumor_normal_df.dropna(axis=1)"
   ]
  },
  {
   "cell_type": "code",
   "execution_count": 98,
   "metadata": {
    "collapsed": false
   },
   "outputs": [],
   "source": [
    "final_df.to_csv(\"data/RNASeq_tumor_v_normal.tsv\", sep=\"\\t\", index=None)"
   ]
  },
  {
   "cell_type": "code",
   "execution_count": 183,
   "metadata": {
    "collapsed": false,
    "scrolled": false
   },
   "outputs": [
    {
     "data": {
      "image/png": "[encoded data removed]",
      "text/plain": [
       "<matplotlib.figure.Figure at 0x1808e90f0>"
      ]
     },
     "metadata": {},
     "output_type": "display_data"
    }
   ],
   "source": [
    "# gene expression histogram\n",
    "final_df.reset_index(inplace=True, drop=True)\n",
    "gene_columns = final_df.columns[1:-2]\n",
    "log_expression = list(map(lambda x: np.log(x+1), final_df[gene_columns].as_matrix().flatten()))\n",
    "plt.hist(log_exp, bins=100)\n",
    "plt.xlabel(\"natural log of expression\")\n",
    "plt.ylabel(\"count\")\n",
    "plt.title(\"histogram of all gene expressions in 1424 tumor-v-normal TCGA sample\")\n",
    "plt.show()"
   ]
  },
  {
   "cell_type": "code",
   "execution_count": 186,
   "metadata": {
    "collapsed": false
   },
   "outputs": [
    {
     "data": {
      "image/png": "[encoded data removed]",
      "text/plain": [
       "<matplotlib.figure.Figure at 0x140c34710>"
      ]
     },
     "metadata": {},
     "output_type": "display_data"
    }
   ],
   "source": [
    "for sample in [0,1]:\n",
    "    sample_df = final_df[final_df.label == sample].copy()\n",
    "    log_exp = list(map(lambda x: np.log(x+1), sample_df[gene_columns].as_matrix().flatten()))\n",
    "    plt.hist(log_exp, bins=100, alpha=0.6)\n",
    "plt.xlabel(\"natural log of expression\")\n",
    "plt.ylabel(\"count\")\n",
    "plt.title(\"histogram of tumor vs normal\")\n",
    "plt.legend([\"normal\", \"tumor\"])\n",
    "plt.show()"
   ]
  },
  {
   "cell_type": "code",
   "execution_count": 10,
   "metadata": {
    "collapsed": false
   },
   "outputs": [],
   "source": [
    "# log transformation of mRNA data\n",
    "df = pd.read_csv(\"data/RNASeq_tumor_v_normal.tsv\", delimiter=\"\\t\", low_memory=False)\n",
    "gene_columns = df.columns[1:-2]\n",
    "df[gene_columns] = df[gene_columns].apply(lambda x: np.log(x+1), axis=1).copy()\n",
    "df.to_csv(\"data/RNASeq_tumor-v-normal_log_transform.tsv\", index=None, sep=\"\\t\")"
   ]
  },
  {
   "cell_type": "code",
   "execution_count": null,
   "metadata": {
    "collapsed": true
   },
   "outputs": [],
   "source": []
  }
 ],
 "metadata": {
  "kernelspec": {
   "display_name": "Python 3",
   "language": "python",
   "name": "python3"
  },
  "language_info": {
   "codemirror_mode": {
    "name": "ipython",
    "version": 3
   },
   "file_extension": ".py",
   "mimetype": "text/x-python",
   "name": "python",
   "nbconvert_exporter": "python",
   "pygments_lexer": "ipython3",
   "version": "3.6.0"
  }
 },
 "nbformat": 4,
 "nbformat_minor": 2
}
