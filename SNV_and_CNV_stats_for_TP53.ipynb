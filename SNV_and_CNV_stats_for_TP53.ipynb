{
 "cells": [
  {
   "cell_type": "code",
   "execution_count": 6,
   "metadata": {
    "collapsed": true
   },
   "outputs": [],
   "source": [
    "import pandas as pd\n",
    "SNV_TP53 = \"data/snv_TP53.tsv\"\n",
    "CNV_TP53 = \"data/cnv_TP53.tsv\""
   ]
  },
  {
   "cell_type": "code",
   "execution_count": 7,
   "metadata": {
    "collapsed": true
   },
   "outputs": [],
   "source": [
    "snv = pd.read_csv(SNV_TP53, sep=\"\\t\")\n",
    "cnv = pd.read_csv(CNV_TP53, sep=\"\\t\")"
   ]
  },
  {
   "cell_type": "code",
   "execution_count": 38,
   "metadata": {
    "collapsed": false,
    "scrolled": false
   },
   "outputs": [
    {
     "name": "stdout",
     "output_type": "stream",
     "text": [
      "Missense_Mutation         2761\n",
      "Nonsense_Mutation          546\n",
      "Frame_Shift_Del            396\n",
      "Splice_Site                288\n",
      "Frame_Shift_Ins            125\n",
      "Silent                      97\n",
      "In_Frame_Del                79\n",
      "In_Frame_Ins                12\n",
      "3'UTR                       11\n",
      "Intron                       9\n",
      "5'UTR                        3\n",
      "Translation_Start_Site       1\n",
      "Name: Variant_Classification, dtype: int64\n"
     ]
    }
   ],
   "source": [
    "print snv['Variant_Classification'].value_counts()"
   ]
  },
  {
   "cell_type": "code",
   "execution_count": 44,
   "metadata": {
    "collapsed": false,
    "scrolled": true
   },
   "outputs": [
    {
     "name": "stdout",
     "output_type": "stream",
     "text": [
      "TCGA-OR-A5J1-01A-11D-A29H-01    0\n",
      "TCGA-OR-A5J2-01A-11D-A29H-01    0\n",
      "TCGA-OR-A5J3-01A-11D-A29H-01    0\n",
      "TCGA-OR-A5J4-01A-11D-A29H-01    1\n",
      "TCGA-OR-A5J5-01A-11D-A29H-01    0\n",
      "Name: 0, dtype: object\n"
     ]
    }
   ],
   "source": [
    "print cnv.transpose()[0][3:].head()"
   ]
  },
  {
   "cell_type": "code",
   "execution_count": null,
   "metadata": {
    "collapsed": true
   },
   "outputs": [],
   "source": []
  }
 ],
 "metadata": {
  "kernelspec": {
   "display_name": "Python 2",
   "language": "python",
   "name": "python2"
  },
  "language_info": {
   "codemirror_mode": {
    "name": "ipython",
    "version": 2
   },
   "file_extension": ".py",
   "mimetype": "text/x-python",
   "name": "python",
   "nbconvert_exporter": "python",
   "pygments_lexer": "ipython2",
   "version": "2.7.11"
  }
 },
 "nbformat": 4,
 "nbformat_minor": 0
}
